{
 "cells": [
  {
   "cell_type": "code",
   "execution_count": 1,
   "metadata": {
    "collapsed": true
   },
   "outputs": [],
   "source": [
    "import pandas as pd\n",
    "import numpy as np\n",
    "from sklearn.metrics import roc_curve\n",
    "from sklearn.metrics import auc\n",
    "from sklearn.calibration import calibration_curve\n",
    "from sklearn.metrics import r2_score\n",
    "from sklearn.model_selection import train_test_split\n",
    "import matplotlib.pyplot as plt"
   ]
  },
  {
   "cell_type": "code",
   "execution_count": 2,
   "metadata": {},
   "outputs": [
    {
     "name": "stdout",
     "output_type": "stream",
     "text": [
      "Before loading data\n",
      "Process has used 110,329,856 bytes of memory\n"
     ]
    }
   ],
   "source": [
    "import os\n",
    "import psutil\n",
    "\n",
    "def log_memory_usage():\n",
    "    pid = os.getpid()\n",
    "    process = psutil.Process(pid)\n",
    "    info = process.memory_info()\n",
    "    print('Process has used {:,d} bytes of memory'.format(info.rss))\n",
    "\n",
    "print(\"Before loading data\")\n",
    "log_memory_usage()"
   ]
  },
  {
   "cell_type": "code",
   "execution_count": 3,
   "metadata": {
    "collapsed": true
   },
   "outputs": [],
   "source": [
    "dtrn = pd.read_csv('/Users/laavanyaganesh/Desktop/cup98LRN.csv',low_memory=False)\n",
    "dtst = pd.read_csv('/Users/laavanyaganesh/Desktop/cup98VAL.csv',low_memory=False)\n",
    "dtst_target = pd.read_csv('/Users/laavanyaganesh/Desktop/valtargt.txt',low_memory=False)"
   ]
  },
  {
   "cell_type": "code",
   "execution_count": 4,
   "metadata": {},
   "outputs": [
    {
     "data": {
      "text/html": [
       "<div>\n",
       "<style>\n",
       "    .dataframe thead tr:only-child th {\n",
       "        text-align: right;\n",
       "    }\n",
       "\n",
       "    .dataframe thead th {\n",
       "        text-align: left;\n",
       "    }\n",
       "\n",
       "    .dataframe tbody tr th {\n",
       "        vertical-align: top;\n",
       "    }\n",
       "</style>\n",
       "<table border=\"1\" class=\"dataframe\">\n",
       "  <thead>\n",
       "    <tr style=\"text-align: right;\">\n",
       "      <th></th>\n",
       "      <th>ODATEDW</th>\n",
       "      <th>OSOURCE</th>\n",
       "      <th>TCODE</th>\n",
       "      <th>STATE</th>\n",
       "      <th>ZIP</th>\n",
       "      <th>MAILCODE</th>\n",
       "      <th>PVASTATE</th>\n",
       "      <th>DOB</th>\n",
       "      <th>NOEXCH</th>\n",
       "      <th>RECINHSE</th>\n",
       "      <th>...</th>\n",
       "      <th>TARGET_D</th>\n",
       "      <th>HPHONE_D</th>\n",
       "      <th>RFA_2R</th>\n",
       "      <th>RFA_2F</th>\n",
       "      <th>RFA_2A</th>\n",
       "      <th>MDMAUD_R</th>\n",
       "      <th>MDMAUD_F</th>\n",
       "      <th>MDMAUD_A</th>\n",
       "      <th>CLUSTER2</th>\n",
       "      <th>GEOCODE2</th>\n",
       "    </tr>\n",
       "  </thead>\n",
       "  <tbody>\n",
       "    <tr>\n",
       "      <th>0</th>\n",
       "      <td>8901</td>\n",
       "      <td>GRI</td>\n",
       "      <td>0</td>\n",
       "      <td>IL</td>\n",
       "      <td>61081</td>\n",
       "      <td></td>\n",
       "      <td></td>\n",
       "      <td>3712</td>\n",
       "      <td>0</td>\n",
       "      <td></td>\n",
       "      <td>...</td>\n",
       "      <td>0.0</td>\n",
       "      <td>0</td>\n",
       "      <td>L</td>\n",
       "      <td>4</td>\n",
       "      <td>E</td>\n",
       "      <td>X</td>\n",
       "      <td>X</td>\n",
       "      <td>X</td>\n",
       "      <td>39.0</td>\n",
       "      <td>C</td>\n",
       "    </tr>\n",
       "    <tr>\n",
       "      <th>1</th>\n",
       "      <td>9401</td>\n",
       "      <td>BOA</td>\n",
       "      <td>1</td>\n",
       "      <td>CA</td>\n",
       "      <td>91326</td>\n",
       "      <td></td>\n",
       "      <td></td>\n",
       "      <td>5202</td>\n",
       "      <td>0</td>\n",
       "      <td></td>\n",
       "      <td>...</td>\n",
       "      <td>0.0</td>\n",
       "      <td>0</td>\n",
       "      <td>L</td>\n",
       "      <td>2</td>\n",
       "      <td>G</td>\n",
       "      <td>X</td>\n",
       "      <td>X</td>\n",
       "      <td>X</td>\n",
       "      <td>1.0</td>\n",
       "      <td>A</td>\n",
       "    </tr>\n",
       "    <tr>\n",
       "      <th>2</th>\n",
       "      <td>9001</td>\n",
       "      <td>AMH</td>\n",
       "      <td>1</td>\n",
       "      <td>NC</td>\n",
       "      <td>27017</td>\n",
       "      <td></td>\n",
       "      <td></td>\n",
       "      <td>0</td>\n",
       "      <td>0</td>\n",
       "      <td></td>\n",
       "      <td>...</td>\n",
       "      <td>0.0</td>\n",
       "      <td>1</td>\n",
       "      <td>L</td>\n",
       "      <td>4</td>\n",
       "      <td>E</td>\n",
       "      <td>X</td>\n",
       "      <td>X</td>\n",
       "      <td>X</td>\n",
       "      <td>60.0</td>\n",
       "      <td>C</td>\n",
       "    </tr>\n",
       "    <tr>\n",
       "      <th>3</th>\n",
       "      <td>8701</td>\n",
       "      <td>BRY</td>\n",
       "      <td>0</td>\n",
       "      <td>CA</td>\n",
       "      <td>95953</td>\n",
       "      <td></td>\n",
       "      <td></td>\n",
       "      <td>2801</td>\n",
       "      <td>0</td>\n",
       "      <td></td>\n",
       "      <td>...</td>\n",
       "      <td>0.0</td>\n",
       "      <td>1</td>\n",
       "      <td>L</td>\n",
       "      <td>4</td>\n",
       "      <td>E</td>\n",
       "      <td>X</td>\n",
       "      <td>X</td>\n",
       "      <td>X</td>\n",
       "      <td>41.0</td>\n",
       "      <td>C</td>\n",
       "    </tr>\n",
       "    <tr>\n",
       "      <th>4</th>\n",
       "      <td>8601</td>\n",
       "      <td></td>\n",
       "      <td>0</td>\n",
       "      <td>FL</td>\n",
       "      <td>33176</td>\n",
       "      <td></td>\n",
       "      <td></td>\n",
       "      <td>2001</td>\n",
       "      <td>0</td>\n",
       "      <td>X</td>\n",
       "      <td>...</td>\n",
       "      <td>0.0</td>\n",
       "      <td>1</td>\n",
       "      <td>L</td>\n",
       "      <td>2</td>\n",
       "      <td>F</td>\n",
       "      <td>X</td>\n",
       "      <td>X</td>\n",
       "      <td>X</td>\n",
       "      <td>26.0</td>\n",
       "      <td>A</td>\n",
       "    </tr>\n",
       "  </tbody>\n",
       "</table>\n",
       "<p>5 rows × 481 columns</p>\n",
       "</div>"
      ],
      "text/plain": [
       "   ODATEDW OSOURCE  TCODE STATE    ZIP MAILCODE PVASTATE   DOB NOEXCH  \\\n",
       "0     8901     GRI      0    IL  61081                    3712      0   \n",
       "1     9401     BOA      1    CA  91326                    5202      0   \n",
       "2     9001     AMH      1    NC  27017                       0      0   \n",
       "3     8701     BRY      0    CA  95953                    2801      0   \n",
       "4     8601              0    FL  33176                    2001      0   \n",
       "\n",
       "  RECINHSE   ...    TARGET_D HPHONE_D RFA_2R RFA_2F RFA_2A MDMAUD_R  MDMAUD_F  \\\n",
       "0            ...         0.0        0      L      4      E        X         X   \n",
       "1            ...         0.0        0      L      2      G        X         X   \n",
       "2            ...         0.0        1      L      4      E        X         X   \n",
       "3            ...         0.0        1      L      4      E        X         X   \n",
       "4        X   ...         0.0        1      L      2      F        X         X   \n",
       "\n",
       "  MDMAUD_A CLUSTER2 GEOCODE2  \n",
       "0        X     39.0        C  \n",
       "1        X      1.0        A  \n",
       "2        X     60.0        C  \n",
       "3        X     41.0        C  \n",
       "4        X     26.0        A  \n",
       "\n",
       "[5 rows x 481 columns]"
      ]
     },
     "execution_count": 4,
     "metadata": {},
     "output_type": "execute_result"
    }
   ],
   "source": [
    "dtrn.head()"
   ]
  },
  {
   "cell_type": "code",
   "execution_count": 5,
   "metadata": {},
   "outputs": [
    {
     "data": {
      "text/html": [
       "<div>\n",
       "<style>\n",
       "    .dataframe thead tr:only-child th {\n",
       "        text-align: right;\n",
       "    }\n",
       "\n",
       "    .dataframe thead th {\n",
       "        text-align: left;\n",
       "    }\n",
       "\n",
       "    .dataframe tbody tr th {\n",
       "        vertical-align: top;\n",
       "    }\n",
       "</style>\n",
       "<table border=\"1\" class=\"dataframe\">\n",
       "  <thead>\n",
       "    <tr style=\"text-align: right;\">\n",
       "      <th></th>\n",
       "      <th>ODATEDW</th>\n",
       "      <th>OSOURCE</th>\n",
       "      <th>TCODE</th>\n",
       "      <th>STATE</th>\n",
       "      <th>ZIP</th>\n",
       "      <th>MAILCODE</th>\n",
       "      <th>PVASTATE</th>\n",
       "      <th>DOB</th>\n",
       "      <th>NOEXCH</th>\n",
       "      <th>RECINHSE</th>\n",
       "      <th>...</th>\n",
       "      <th>CONTROLN</th>\n",
       "      <th>HPHONE_D</th>\n",
       "      <th>RFA_2R</th>\n",
       "      <th>RFA_2F</th>\n",
       "      <th>RFA_2A</th>\n",
       "      <th>MDMAUD_R</th>\n",
       "      <th>MDMAUD_F</th>\n",
       "      <th>MDMAUD_A</th>\n",
       "      <th>CLUSTER2</th>\n",
       "      <th>GEOCODE2</th>\n",
       "    </tr>\n",
       "  </thead>\n",
       "  <tbody>\n",
       "    <tr>\n",
       "      <th>0</th>\n",
       "      <td>9301</td>\n",
       "      <td>PV3</td>\n",
       "      <td>0</td>\n",
       "      <td>WI</td>\n",
       "      <td>53558</td>\n",
       "      <td></td>\n",
       "      <td></td>\n",
       "      <td>1702</td>\n",
       "      <td>0</td>\n",
       "      <td>X</td>\n",
       "      <td>...</td>\n",
       "      <td>188946</td>\n",
       "      <td>1</td>\n",
       "      <td>L</td>\n",
       "      <td>1</td>\n",
       "      <td>G</td>\n",
       "      <td>X</td>\n",
       "      <td>X</td>\n",
       "      <td>X</td>\n",
       "      <td>15.0</td>\n",
       "      <td>B</td>\n",
       "    </tr>\n",
       "    <tr>\n",
       "      <th>1</th>\n",
       "      <td>9501</td>\n",
       "      <td>CNT</td>\n",
       "      <td>0</td>\n",
       "      <td>TX</td>\n",
       "      <td>78501</td>\n",
       "      <td></td>\n",
       "      <td></td>\n",
       "      <td>1501</td>\n",
       "      <td>0</td>\n",
       "      <td></td>\n",
       "      <td>...</td>\n",
       "      <td>126296</td>\n",
       "      <td>1</td>\n",
       "      <td>L</td>\n",
       "      <td>1</td>\n",
       "      <td>F</td>\n",
       "      <td>X</td>\n",
       "      <td>X</td>\n",
       "      <td>X</td>\n",
       "      <td>13.0</td>\n",
       "      <td>B</td>\n",
       "    </tr>\n",
       "    <tr>\n",
       "      <th>2</th>\n",
       "      <td>9101</td>\n",
       "      <td>L01</td>\n",
       "      <td>1</td>\n",
       "      <td>CA</td>\n",
       "      <td>92392</td>\n",
       "      <td></td>\n",
       "      <td></td>\n",
       "      <td>3001</td>\n",
       "      <td>0</td>\n",
       "      <td></td>\n",
       "      <td>...</td>\n",
       "      <td>155244</td>\n",
       "      <td>1</td>\n",
       "      <td>L</td>\n",
       "      <td>1</td>\n",
       "      <td>G</td>\n",
       "      <td>X</td>\n",
       "      <td>X</td>\n",
       "      <td>X</td>\n",
       "      <td>34.0</td>\n",
       "      <td>A</td>\n",
       "    </tr>\n",
       "    <tr>\n",
       "      <th>3</th>\n",
       "      <td>9401</td>\n",
       "      <td>HAM</td>\n",
       "      <td>0</td>\n",
       "      <td>TX</td>\n",
       "      <td>77625-</td>\n",
       "      <td></td>\n",
       "      <td></td>\n",
       "      <td>4909</td>\n",
       "      <td>0</td>\n",
       "      <td></td>\n",
       "      <td>...</td>\n",
       "      <td>123985</td>\n",
       "      <td>0</td>\n",
       "      <td>L</td>\n",
       "      <td>1</td>\n",
       "      <td>F</td>\n",
       "      <td>X</td>\n",
       "      <td>X</td>\n",
       "      <td>X</td>\n",
       "      <td>58.0</td>\n",
       "      <td>B</td>\n",
       "    </tr>\n",
       "    <tr>\n",
       "      <th>4</th>\n",
       "      <td>9201</td>\n",
       "      <td>NAS</td>\n",
       "      <td>2</td>\n",
       "      <td>TX</td>\n",
       "      <td>76051</td>\n",
       "      <td></td>\n",
       "      <td></td>\n",
       "      <td>5406</td>\n",
       "      <td>0</td>\n",
       "      <td></td>\n",
       "      <td>...</td>\n",
       "      <td>119118</td>\n",
       "      <td>1</td>\n",
       "      <td>L</td>\n",
       "      <td>3</td>\n",
       "      <td>E</td>\n",
       "      <td>X</td>\n",
       "      <td>X</td>\n",
       "      <td>X</td>\n",
       "      <td>2.0</td>\n",
       "      <td>A</td>\n",
       "    </tr>\n",
       "  </tbody>\n",
       "</table>\n",
       "<p>5 rows × 479 columns</p>\n",
       "</div>"
      ],
      "text/plain": [
       "   ODATEDW OSOURCE  TCODE STATE     ZIP MAILCODE PVASTATE   DOB NOEXCH  \\\n",
       "0     9301     PV3      0    WI   53558                    1702      0   \n",
       "1     9501     CNT      0    TX   78501                    1501      0   \n",
       "2     9101     L01      1    CA   92392                    3001      0   \n",
       "3     9401     HAM      0    TX  77625-                    4909      0   \n",
       "4     9201     NAS      2    TX   76051                    5406      0   \n",
       "\n",
       "  RECINHSE   ...    CONTROLN HPHONE_D RFA_2R RFA_2F RFA_2A MDMAUD_R  MDMAUD_F  \\\n",
       "0        X   ...      188946        1      L      1      G        X         X   \n",
       "1            ...      126296        1      L      1      F        X         X   \n",
       "2            ...      155244        1      L      1      G        X         X   \n",
       "3            ...      123985        0      L      1      F        X         X   \n",
       "4            ...      119118        1      L      3      E        X         X   \n",
       "\n",
       "  MDMAUD_A CLUSTER2 GEOCODE2  \n",
       "0        X     15.0        B  \n",
       "1        X     13.0        B  \n",
       "2        X     34.0        A  \n",
       "3        X     58.0        B  \n",
       "4        X      2.0        A  \n",
       "\n",
       "[5 rows x 479 columns]"
      ]
     },
     "execution_count": 5,
     "metadata": {},
     "output_type": "execute_result"
    }
   ],
   "source": [
    "dtst.head()"
   ]
  },
  {
   "cell_type": "code",
   "execution_count": 6,
   "metadata": {},
   "outputs": [
    {
     "data": {
      "text/html": [
       "<div>\n",
       "<style>\n",
       "    .dataframe thead tr:only-child th {\n",
       "        text-align: right;\n",
       "    }\n",
       "\n",
       "    .dataframe thead th {\n",
       "        text-align: left;\n",
       "    }\n",
       "\n",
       "    .dataframe tbody tr th {\n",
       "        vertical-align: top;\n",
       "    }\n",
       "</style>\n",
       "<table border=\"1\" class=\"dataframe\">\n",
       "  <thead>\n",
       "    <tr style=\"text-align: right;\">\n",
       "      <th></th>\n",
       "      <th>CONTROLN</th>\n",
       "      <th>TARGET_B</th>\n",
       "      <th>TARGET_D</th>\n",
       "    </tr>\n",
       "  </thead>\n",
       "  <tbody>\n",
       "    <tr>\n",
       "      <th>0</th>\n",
       "      <td>3</td>\n",
       "      <td>0</td>\n",
       "      <td>0.0</td>\n",
       "    </tr>\n",
       "    <tr>\n",
       "      <th>1</th>\n",
       "      <td>6</td>\n",
       "      <td>0</td>\n",
       "      <td>0.0</td>\n",
       "    </tr>\n",
       "    <tr>\n",
       "      <th>2</th>\n",
       "      <td>9</td>\n",
       "      <td>0</td>\n",
       "      <td>0.0</td>\n",
       "    </tr>\n",
       "    <tr>\n",
       "      <th>3</th>\n",
       "      <td>11</td>\n",
       "      <td>0</td>\n",
       "      <td>0.0</td>\n",
       "    </tr>\n",
       "    <tr>\n",
       "      <th>4</th>\n",
       "      <td>16</td>\n",
       "      <td>0</td>\n",
       "      <td>0.0</td>\n",
       "    </tr>\n",
       "  </tbody>\n",
       "</table>\n",
       "</div>"
      ],
      "text/plain": [
       "   CONTROLN  TARGET_B  TARGET_D\n",
       "0         3         0       0.0\n",
       "1         6         0       0.0\n",
       "2         9         0       0.0\n",
       "3        11         0       0.0\n",
       "4        16         0       0.0"
      ]
     },
     "execution_count": 6,
     "metadata": {},
     "output_type": "execute_result"
    }
   ],
   "source": [
    "dtst_target.head()"
   ]
  },
  {
   "cell_type": "code",
   "execution_count": 7,
   "metadata": {},
   "outputs": [
    {
     "name": "stdout",
     "output_type": "stream",
     "text": [
      "After loading data\n",
      "Process has used 860,897,280 bytes of memory\n"
     ]
    }
   ],
   "source": [
    "print(\"After loading data\")\n",
    "log_memory_usage()"
   ]
  },
  {
   "cell_type": "code",
   "execution_count": 130,
   "metadata": {},
   "outputs": [
    {
     "name": "stdout",
     "output_type": "stream",
     "text": [
      "       column    dtype  na_count  non_na_count  unique_count  val_min val_max val_median    val_mean\n",
      "0     ODATEDW    int64         0         95412            54     8306    9701       9201     9141.36\n",
      "1     OSOURCE   object         0         95412           896              ZOY                       \n",
      "2       TCODE    int64         0         95412            55        0   72002          1     54.2231\n",
      "3       STATE   object         0         95412            57       AA      WY                       \n",
      "4         ZIP   object         0         95412         19938    00801   99950                       \n",
      "5    MAILCODE   object         0         95412             2                B                       \n",
      "6    PVASTATE   object         0         95412             3                P                       \n",
      "7         DOB    int64         0         95412           947        0    9710       2610      2723.6\n",
      "8      NOEXCH   object         0         95412             4                X                       \n",
      "9    RECINHSE   object         0         95412             2                X                       \n",
      "10      RECP3   object         0         95412             2                X                       \n",
      "11    RECPGVG   object         0         95412             2                X                       \n",
      "12   RECSWEEP   object         0         95412             2                X                       \n",
      "13     MDMAUD   object         0         95412            28     C1CM    XXXX                       \n",
      "14     DOMAIN   object         0         95412            17               U4                       \n",
      "15    CLUSTER   object         0         95412            54               53                       \n",
      "16        AGE  float64     23665         71747            97        1      98         62     61.6116\n",
      "17    AGEFLAG   object         0         95412             3                I                       \n",
      "18   HOMEOWNR   object         0         95412             3                U                       \n",
      "19    CHILD03   object         0         95412             4                M                       \n",
      "20    CHILD07   object         0         95412             4                M                       \n",
      "21    CHILD12   object         0         95412             4                M                       \n",
      "22    CHILD18   object         0         95412             4                M                       \n",
      "23    NUMCHLD  float64     83026         12386             8        1       7          1     1.52777\n",
      "24     INCOME  float64     21286         74126             8        1       7          4     3.88625\n",
      "25     GENDER   object         0         95412             7                U                       \n",
      "26    WEALTH1  float64     44732         50680            11        0       9          6      5.3457\n",
      "27        HIT    int64         0         95412            75        0     241          0     3.32144\n",
      "28    MBCRAFT  float64     52854         42558             8        0       6          0    0.152075\n",
      "29   MBGARDEN  float64     52854         42558             6        0       4          0   0.0591663\n",
      "30    MBBOOKS  float64     52854         42558            11        0       9          0     1.11638\n",
      "31   MBCOLECT  float64     52914         42498             8        0       6          0   0.0639324\n",
      "32    MAGFAML  float64     52854         42558            10        0       9          0    0.448329\n",
      "33     MAGFEM  float64     52854         42558             7        0       5          0    0.126322\n",
      "34    MAGMALE  float64     52854         42558             6        0       4          0   0.0657221\n",
      "35   PUBGARDN  float64     52854         42558             7        0       5          0    0.141806\n",
      "36   PUBCULIN  float64     52854         42558             8        0       6          0    0.145237\n",
      "37    PUBHLTH  float64     52854         42558            11        0       9          0    0.714484\n",
      "38   PUBDOITY  float64     52854         42558            10        0       8          0    0.237723\n",
      "39   PUBNEWFN  float64     52854         42558            11        0       9          0    0.376239\n",
      "40   PUBPHOTO  float64     52854         42558             4        0       2          0  0.00587434\n",
      "41     PUBOPP  float64     52854         42558            11        0       9          0    0.237558\n",
      "42   DATASRCE   object         0         95412             4                3                       \n",
      "43   MALEMILI    int64         0         95412            95        0      99          0     1.04844\n",
      "44    MALEVET    int64         0         95412            89        0      99         31     30.4453\n",
      "45   VIETVETS    int64         0         95412            95        0      99         29     29.7023\n",
      "46   WWIIVETS    int64         0         95412           100        0      99         32     32.6377\n",
      "47   LOCALGOV    int64         0         95412            55        0      99          6     6.84233\n",
      "48   STATEGOV    int64         0         95412            65        0      99          3     4.56857\n",
      "49     FEDGOV    int64         0         95412            55        0      87          2     3.11087\n",
      "50      SOLP3   object         0         95412             5               12                       \n",
      "51      SOLIH   object         0         95412             8               12                       \n",
      "52      MAJOR   object         0         95412             2                X                       \n",
      "53    WEALTH2  float64     43823         51589            11        0       9          5     4.95453\n",
      "54    GEOCODE   object         0         95412             8               14                       \n",
      "55   COLLECT1   object         0         95412             2                Y                       \n",
      "56   VETERANS   object         0         95412             2                Y                       \n",
      "57      BIBLE   object         0         95412             2                Y                       \n",
      "58      CATLG   object         0         95412             2                Y                       \n",
      "59      HOMEE   object         0         95412             2                Y                       \n",
      "60       PETS   object         0         95412             2                Y                       \n",
      "61     CDPLAY   object         0         95412             2                Y                       \n",
      "62     STEREO   object         0         95412             2                Y                       \n",
      "63   PCOWNERS   object         0         95412             2                Y                       \n",
      "64      PHOTO   object         0         95412             2                Y                       \n",
      "65     CRAFTS   object         0         95412             2                Y                       \n",
      "66     FISHER   object         0         95412             2                Y                       \n",
      "67   GARDENIN   object         0         95412             2                Y                       \n",
      "68      BOATS   object         0         95412             2                Y                       \n",
      "69     WALKER   object         0         95412             2                Y                       \n",
      "70   KIDSTUFF   object         0         95412             2                Y                       \n",
      "71      CARDS   object         0         95412             2                Y                       \n",
      "72     PLATES   object         0         95412             2                Y                       \n",
      "73    LIFESRC   object         0         95412             4                3                       \n",
      "74   PEPSTRFL   object         0         95412             2                X                       \n",
      "75     POP901    int64         0         95412          9906        0   98701       1565     3255.88\n",
      "76     POP902    int64         0         95412          4786        0   23766        421     864.993\n",
      "77     POP903    int64         0         95412          5698        0   35403        585     1222.57\n",
      "78    POP90C1    int64         0         95412           100        0      99         99     58.5897\n",
      "79    POP90C2    int64         0         95412           100        0      99          0     13.6225\n",
      "80    POP90C3    int64         0         95412           100        0      99          0     26.1405\n",
      "81    POP90C4    int64         0         95412            81        0      99         49     48.2117\n",
      "82    POP90C5    int64         0         95412            81        0      99         51     50.9514\n",
      "83       ETH1    int64         0         95412           100        0      99         93     84.8545\n",
      "84       ETH2    int64         0         95412           100        0      99          1      7.4674\n",
      "85       ETH3    int64         0         95412            85        0      99          0    0.776904\n",
      "86       ETH4    int64         0         95412            96        0      99          1      2.9057\n",
      "87       ETH5    int64         0         95412           100        0      99          2     7.45808\n",
      "88       ETH6    int64         0         95412            21        0      22          0    0.216011\n",
      "89       ETH7    int64         0         95412            61        0      72          0     0.39735\n",
      "90       ETH8    int64         0         95412            60        0      99          0    0.612806\n",
      "91       ETH9    int64         0         95412            61        0      67          0    0.561491\n",
      "92      ETH10    int64         0         95412            33        0      46          0    0.250587\n",
      "93      ETH11    int64         0         95412            34        0      47          0    0.210309\n",
      "94      ETH12    int64         0         95412            43        0      72          0   0.0683876\n",
      "95      ETH13    int64         0         95412            98        0      97          1     5.13817\n",
      "96      ETH14    int64         0         95412            45        0      57          0    0.302478\n",
      "97      ETH15    int64         0         95412            78        0      81          0    0.327433\n",
      "98      ETH16    int64         0         95412            66        0      86          1     1.51361\n",
      "99     AGE901    int64         0         95412            74        0      84         33     34.4753\n",
      "100    AGE902    int64         0         95412            67        0      84         41     41.9113\n",
      "101    AGE903    int64         0         95412            59        0      84         44     45.1086\n",
      "102    AGE904    int64         0         95412            66        0      84         35     35.9174\n",
      "103    AGE905    int64         0         95412            62        0      84         45     44.6942\n",
      "104    AGE906    int64         0         95412            55        0      84         48     47.8894\n",
      "105    AGE907    int64         0         95412            64        0      75         26     24.5151\n",
      "106     CHIL1    int64         0         95412            85        0      99         39     39.5927\n",
      "107     CHIL2    int64         0         95412            70        0      99         39     38.3576\n",
      "108     CHIL3    int64         0         95412            82        0      99         21     21.0147\n",
      "109     AGEC1    int64         0         95412            98        0      99         11     12.1969\n",
      "110     AGEC2    int64         0         95412            74        0      99         22     22.1898\n",
      "111     AGEC3    int64         0         95412            57        0      99         20      20.653\n",
      "112     AGEC4    int64         0         95412            43        0      99         14     14.0578\n",
      "113     AGEC5    int64         0         95412            43        0      99         12     11.8578\n",
      "114     AGEC6    int64         0         95412            63        0      99         10     10.5433\n",
      "115     AGEC7    int64         0         95412            77        0      99          6     7.66797\n",
      "116    CHILC1    int64         0         95412            62        0      99         16     16.1757\n",
      "117    CHILC2    int64         0         95412            46        0      99         16     16.1394\n",
      "118    CHILC3    int64         0         95412            62        0      99         32     31.6346\n",
      "119    CHILC4    int64         0         95412            56        0      99         20     19.7542\n",
      "120    CHILC5    int64         0         95412            97        0      99         15     15.2569\n",
      "121    HHAGE1    int64         0         95412            99        0      99         23     24.6033\n",
      "122    HHAGE2    int64         0         95412            85        0      99          8     9.37184\n",
      "123    HHAGE3    int64         0         95412            99        0      99         21     22.3085\n",
      "124      HHN1    int64         0         95412            98        0      99         21     22.8217\n",
      "125      HHN2    int64         0         95412            85        0      99         33     33.6304\n",
      "126      HHN3    int64         0         95412            96        0      99         44     42.6974\n",
      "127      HHN4    int64         0         95412            86        0      99         26     25.6154\n",
      "128      HHN5    int64         0         95412            69        0      99         10      10.471\n",
      "129      HHN6    int64         0         95412            53        0      99          3     3.89646\n",
      "130     MARR1    int64         0         95412            95        0      99         61     58.1006\n",
      "131     MARR2    int64         0         95412            51        0      99         10     10.6934\n",
      "132     MARR3    int64         0         95412            60        0      73          6      7.4247\n",
      "133     MARR4    int64         0         95412           100        0      99         21     22.9484\n",
      "134      HHP1    int64         0         95412           393        0     650        182     185.272\n",
      "135      HHP2    int64         0         95412           377        0     700        262     259.685\n",
      "136       DW1    int64         0         95412           100        0      99         75     70.0835\n",
      "137       DW2    int64         0         95412           100        0      99         72     66.0366\n",
      "138       DW3    int64         0         95412            70        0      99          1     2.90086\n",
      "139       DW4    int64         0         95412           100        0      99          9     19.4808\n",
      "140       DW5    int64         0         95412           100        0      99          6     16.5554\n",
      "141       DW6    int64         0         95412           100        0      99          3     13.1029\n",
      "142       DW7    int64         0         95412            97        0      99          0     1.78985\n",
      "143       DW8    int64         0         95412            86        0      99          0     1.16032\n",
      "144       DW9    int64         0         95412            91        0      99          0    0.621201\n",
      "145       HV1    int64         0         95412          4434        0    6000        737     1061.84\n",
      "146       HV2    int64         0         95412          4623        0    6000        803     1133.03\n",
      "147       HV3    int64         0         95412            14        0      13          4     4.22425\n",
      "148       HV4    int64         0         95412            14        0      13          3     3.87589\n",
      "149       HU1    int64         0         95412           100        0      99         76     69.6968\n",
      "150       HU2    int64         0         95412           100        0      99         24     29.4458\n",
      "151       HU3    int64         0         95412            93        0      99         94     89.9666\n",
      "152       HU4    int64         0         95412            94        0      99          6     9.17648\n",
      "153       HU5    int64         0         95412           100        0      99          5     13.7373\n",
      "154      HHD1    int64         0         95412            95        0      99         36     35.6545\n",
      "155      HHD2    int64         0         95412           100        0      99         75     71.5039\n",
      "156      HHD3    int64         0         95412            99        0      99         61     58.7551\n",
      "157      HHD4    int64         0         95412            90        0      99         28     27.7806\n",
      "158      HHD5    int64         0         95412           100        0      99         86     81.9259\n",
      "159      HHD6    int64         0         95412           100        0      99         14      17.236\n",
      "160      HHD7    int64         0         95412            66        0      99          7     7.87392\n",
      "161      HHD8    int64         0         95412            17        0      50          1     1.62376\n",
      "162      HHD9    int64         0         95412            64        0      99          5     6.24786\n",
      "163     HHD10    int64         0         95412            83        0      99         12     13.6096\n",
      "164     HHD11    int64         0         95412            82        0      99         18      18.911\n",
      "165     HHD12    int64         0         95412            66        0      99          4     4.82245\n",
      "166     ETHC1    int64         0         95412            52        0      75         18     16.7534\n",
      "167     ETHC2    int64         0         95412            95        0      99         55     50.7861\n",
      "168     ETHC3    int64         0         95412           100        0      99         15     17.3582\n",
      "169     ETHC4    int64         0         95412            45        0      55          0     1.96365\n",
      "170     ETHC5    int64         0         95412            78        0      99          1     4.57254\n",
      "171     ETHC6    int64         0         95412            53        0      99          0    0.836153\n",
      "172      HVP1    int64         0         95412           100        0      99          1     13.5876\n",
      "173      HVP2    int64         0         95412           100        0      99          3     21.0494\n",
      "174      HVP3    int64         0         95412           100        0      99         17     35.1052\n",
      "175      HVP4    int64         0         95412           100        0      99         48     51.1744\n",
      "176      HVP5    int64         0         95412           100        0      99         89     73.9068\n",
      "177      HVP6    int64         0         95412           100        0      99          0     6.44635\n",
      "178      HUR1    int64         0         95412            96        0      99          2     4.85428\n",
      "179      HUR2    int64         0         95412           100        0      99         44     45.7482\n",
      "180      RHP1    int64         0         95412            82        0      85         52     52.9353\n",
      "181      RHP2    int64         0         95412            81        0      90         54     53.7693\n",
      "182      RHP3    int64         0         95412            27        0      61         14     14.1363\n",
      "183      RHP4    int64         0         95412            25        0      40          4     4.39216\n",
      "184     HUPA1    int64         0         95412            96        0      99          5     10.1543\n",
      "185     HUPA2    int64         0         95412           100        0      99          1       9.314\n",
      "186     HUPA3    int64         0         95412           100        0      99          0     8.55086\n",
      "187     HUPA4    int64         0         95412            97        0      99         10     11.1587\n",
      "188     HUPA5    int64         0         95412            77        0      99          2     5.21988\n",
      "189     HUPA6    int64         0         95412           100        0      99          2     11.0054\n",
      "190     HUPA7    int64         0         95412            48        0      99          0     1.61261\n",
      "191       RP1    int64         0         95412           100        0      99         14     29.1411\n",
      "192       RP2    int64         0         95412           100        0      99         36     42.3664\n",
      "193       RP3    int64         0         95412           100        0      99         68      59.682\n",
      "194       RP4    int64         0         95412           100        0      99         86     76.5226\n",
      "195       MSA  float64       132         95280           299        0    9360       3350     3527.74\n",
      "196       ADI  float64       132         95280           205        0     651        175     187.356\n",
      "197       DMA  float64       132         95280           207        0     881        635     664.004\n",
      "198       IC1    int64         0         95412          1134        0    1500        310     340.056\n",
      "199       IC2    int64         0         95412          1213        0    1500        355     387.027\n",
      "200       IC3    int64         0         95412          1091        0    1500        354     387.418\n",
      "201       IC4    int64         0         95412          1156        0    1500        397     430.793\n",
      "202       IC5    int64         0         95412         21514        0  174523    13727.5     15722.7\n",
      "203       IC6    int64         0         95412            99        0      99         19     21.4979\n",
      "204       IC7    int64         0         95412            65        0      99         17      16.908\n",
      "205       IC8    int64         0         95412            60        0      99         16     15.7474\n",
      "206       IC9    int64         0         95412            66        0      99         18     18.3376\n",
      "207      IC10    int64         0         95412            67        0      99         15     15.9515\n",
      "208      IC11    int64         0         95412            50        0      99          4     5.58625\n",
      "209      IC12    int64         0         95412            36        0      50          1     2.21189\n",
      "210      IC13    int64         0         95412            31        0      61          0      0.9357\n",
      "211      IC14    int64         0         95412            71        0      99          0     1.88859\n",
      "212      IC15    int64         0         95412            96        0      99         12     14.7956\n",
      "213      IC16    int64         0         95412            78        0      99         16     15.9255\n",
      "214      IC17    int64         0         95412            72        0      99         17     16.4339\n",
      "215      IC18    int64         0         95412            71        0      99         21     20.6132\n",
      "216      IC19    int64         0         95412            73        0      99         18     18.6659\n",
      "217      IC20    int64         0         95412            54        0      99          4     6.58441\n",
      "218      IC21    int64         0         95412            43        0      50          1     2.60262\n",
      "219      IC22    int64         0         95412            36        0      99          0      1.1227\n",
      "220      IC23    int64         0         95412            75        0      99          0     2.28186\n",
      "221     HHAS1    int64         0         95412           100        0      99         26     26.7634\n",
      "222     HHAS2    int64         0         95412            72        0      99          4      6.1025\n",
      "223     HHAS3    int64         0         95412            99        0      99         43      42.963\n",
      "224     HHAS4    int64         0         95412            93        0      99          8     10.7409\n",
      "225       MC1    int64         0         95412            99        0      99         47      48.362\n",
      "226       MC2    int64         0         95412            99        0      99         53     50.7469\n",
      "227       MC3    int64         0         95412            98        0      99         10     12.2762\n",
      "228      TPE1    int64         0         95412            99        0      99         79     76.0956\n",
      "229      TPE2    int64         0         95412            70        0      99         12     12.9975\n",
      "230      TPE3    int64         0         95412            72        0      99          0     2.39892\n",
      "231      TPE4    int64         0         95412            67        0      99          0     1.83242\n",
      "232      TPE5    int64         0         95412            50        0      71          0    0.454807\n",
      "233      TPE6    int64         0         95412            27        0      47          0    0.101895\n",
      "234      TPE7    int64         0         95412            18        0      25          0    0.239047\n",
      "235      TPE8    int64         0         95412            83        0      99          3     4.07133\n",
      "236      TPE9    int64         0         95412            56        0      99          2     3.25396\n",
      "237      PEC1    int64         0         95412            82        0      99          1     2.26759\n",
      "238      PEC2    int64         0         95412            99        0      99         11     18.2998\n",
      "239     TPE10    int64         0         95412            67        0      90         19     19.4804\n",
      "240     TPE11    int64         0         95412            62        0      76         23     23.7237\n",
      "241     TPE12    int64         0         95412            59        0      99          4     5.30632\n",
      "242     TPE13    int64         0         95412           100        0      99         64      60.042\n",
      "243      LFC1    int64         0         95412           100        0      99         66     64.5316\n",
      "244      LFC2    int64         0         95412           100        0      99         76     73.8527\n",
      "245      LFC3    int64         0         95412            99        0      99         57     56.0238\n",
      "246      LFC4    int64         0         95412           100        0      99         72      69.802\n",
      "247      LFC5    int64         0         95412            98        0      99         54     52.9553\n",
      "248      LFC6    int64         0         95412            98        0      99         66     64.1108\n",
      "249      LFC7    int64         0         95412           100        0      99         50     48.7986\n",
      "250      LFC8    int64         0         95412            98        0      99         78     70.1024\n",
      "251      LFC9    int64         0         95412            96        0      99         97     62.6628\n",
      "252     LFC10    int64         0         95412            91        0      99          4     6.63638\n",
      "253      OCC1    int64         0         95412            70        0      99         13     14.1228\n",
      "254      OCC2    int64         0         95412            61        0      99         11     12.5959\n",
      "255      OCC3    int64         0         95412            35        0      99          3     3.54105\n",
      "256      OCC4    int64         0         95412            60        0      99         12     12.4031\n",
      "257      OCC5    int64         0         95412            63        0      99         15      15.505\n",
      "258      OCC6    int64         0         95412            27        0      43          0    0.419109\n",
      "259      OCC7    int64         0         95412            40        0      55          1     1.64471\n",
      "260      OCC8    int64         0         95412            63        0      99         10     10.5447\n",
      "261      OCC9    int64         0         95412            69        0      99          1     2.85629\n",
      "262     OCC10    int64         0         95412            61        0      99         11     11.3765\n",
      "263     OCC11    int64         0         95412            61        0      99          5     6.30923\n",
      "264     OCC12    int64         0         95412            48        0      99          4     4.01224\n",
      "265     OCC13    int64         0         95412            44        0      99          3     3.74188\n",
      "266      EIC1    int64         0         95412            75        0      99          1      3.1568\n",
      "267      EIC2    int64         0         95412            54        0      65          0    0.719176\n",
      "268      EIC3    int64         0         95412            51        0      99          6     6.41165\n",
      "269      EIC4    int64         0         95412            73        0      99         15     16.9684\n",
      "270      EIC5    int64         0         95412            45        0      99          4     4.28047\n",
      "271      EIC6    int64         0         95412            34        0      64          2     2.71481\n",
      "272      EIC7    int64         0         95412            43        0      99          4     4.36923\n",
      "273      EIC8    int64         0         95412            71        0      99         17     16.9179\n",
      "274      EIC9    int64         0         95412            50        0      99          6     6.86073\n",
      "275     EIC10    int64         0         95412            44        0      99          4     4.68064\n",
      "276     EIC11    int64         0         95412            50        0      99          3     3.28641\n",
      "277     EIC12    int64         0         95412            41        0      67          1     1.54742\n",
      "278     EIC13    int64         0         95412            56        0      99          8     8.04763\n",
      "279     EIC14    int64         0         95412            69        0      99          7     8.05565\n",
      "280     EIC15    int64         0         95412            58        0      99          6     6.47794\n",
      "281     EIC16    int64         0         95412            51        0      99          4     4.58526\n",
      "282     OEDC1    int64         0         95412            54        0      99          6     7.00867\n",
      "283     OEDC2    int64         0         95412            63        0      99          3     4.67541\n",
      "284     OEDC3    int64         0         95412            54        0      99          2     3.18706\n",
      "285     OEDC4    int64         0         95412            66        0      99          7     8.04854\n",
      "286     OEDC5    int64         0         95412            91        0      99         71     69.5677\n",
      "287     OEDC6    int64         0         95412            63        0      99          5      6.0863\n",
      "288     OEDC7    int64         0         95412            25        0      99          0    0.497736\n",
      "289       EC1    int64         0         95412            79        0     170        120     128.023\n",
      "290       EC2    int64         0         95412            76        0      99          6     8.77021\n",
      "291       EC3    int64         0         95412            63        0      99         12      12.846\n",
      "292       EC4    int64         0         95412            80        0      99         29     28.7255\n",
      "293       EC5    int64         0         95412            69        0      99         21     20.7913\n",
      "294       EC6    int64         0         95412            36        0      37          6     6.54462\n",
      "295       EC7    int64         0         95412            61        0      99         12     14.0698\n",
      "296       EC8    int64         0         95412            71        0      99          5     7.36604\n",
      "297      SEC1    int64         0         95412            83        0      97          3     3.72616\n",
      "298      SEC2    int64         0         95412            97        0      99         22     22.0926\n",
      "299      SEC3    int64         0         95412            19        0      30          2      1.8837\n",
      "300      SEC4    int64         0         95412            54        0      72         18     17.1302\n",
      "301      SEC5    int64         0         95412            97        0      99          6     6.80876\n",
      "302      AFC1    int64         0         95412            81        0      97          0    0.596581\n",
      "303      AFC2    int64         0         95412            96        0      99          0     1.06155\n",
      "304      AFC3    int64         0         95412            36        0      78          0    0.145663\n",
      "305      AFC4    int64         0         95412            57        0      99         15     15.5743\n",
      "306      AFC5    int64         0         95412            88        0      99         31       31.27\n",
      "307      AFC6    int64         0         95412            27        0      30          1     1.28022\n",
      "308       VC1    int64         0         95412            95        0      99         30     30.5839\n",
      "309       VC2    int64         0         95412            89        0      99         17     17.9218\n",
      "310       VC3    int64         0         95412           100        0      99         32     33.3756\n",
      "311       VC4    int64         0         95412            97        0      99          9     11.3141\n",
      "312      ANC1    int64         0         95412            68        0      83          0    0.719574\n",
      "313      ANC2    int64         0         95412            54        0      99          5     5.47157\n",
      "314      ANC3    int64         0         95412            31        0      31          1     0.86595\n",
      "315      ANC4    int64         0         95412            82        0      92          8     10.1699\n",
      "316      ANC5    int64         0         95412            26        0      47          0    0.190636\n",
      "317      ANC6    int64         0         95412            14        0      14          0    0.177546\n",
      "318      ANC7    int64         0         95412            43        0      99          4      4.8505\n",
      "319      ANC8    int64         0         95412            42        0      55          1     1.80726\n",
      "320      ANC9    int64         0         95412            52        0      68          0    0.775993\n",
      "321     ANC10    int64         0         95412            60        0      99          1     1.33324\n",
      "322     ANC11    int64         0         95412            33        0      43          0    0.167914\n",
      "323     ANC12    int64         0         95412            30        0      52          0     0.39625\n",
      "324     ANC13    int64         0         95412            19        0      50          1    0.726701\n",
      "325     ANC14    int64         0         95412            26        0      27          0    0.726533\n",
      "326     ANC15    int64         0         95412            17        0      32          0   0.0782292\n",
      "327     POBC1    int64         0         95412            88        0      99          3     6.62501\n",
      "328     POBC2    int64         0         95412           100        0      99         59     57.0326\n",
      "329      LSC1    int64         0         95412           100        0      99         94     87.7629\n",
      "330      LSC2    int64         0         95412           100        0      99          2     5.98556\n",
      "331      LSC3    int64         0         95412            71        0      99          0     1.87327\n",
      "332      LSC4    int64         0         95412            79        0      99          2     3.45416\n",
      "333      VOC1    int64         0         95412            93        0      99         95     91.7807\n",
      "334      VOC2    int64         0         95412           100        0      99         62     60.3766\n",
      "335      VOC3    int64         0         95412            78        0      99         19     20.0145\n",
      "336       HC1    int64         0         95412            32        0      31          6     6.86175\n",
      "337       HC2    int64         0         95412            53        0      52         21     23.8755\n",
      "338       HC3    int64         0         95412            83        0      99          0      2.5898\n",
      "339       HC4    int64         0         95412           100        0      99          6     12.4098\n",
      "340       HC5    int64         0         95412           100        0      99         16     22.6948\n",
      "341       HC6    int64         0         95412           100        0      99         46     46.0237\n",
      "342       HC7    int64         0         95412           100        0      99         70     62.4145\n",
      "343       HC8    int64         0         95412           100        0      99         29     36.1335\n",
      "344       HC9    int64         0         95412            87        0      90          0      2.7449\n",
      "345      HC10    int64         0         95412            53        0      62          0     1.31634\n",
      "346      HC11    int64         0         95412           100        0      99         59     51.8698\n",
      "347      HC12    int64         0         95412            92        0      99          1     6.87846\n",
      "348      HC13    int64         0         95412           100        0      99         20      29.802\n",
      "349      HC14    int64         0         95412            98        0      99          0     4.55834\n",
      "350      HC15    int64         0         95412            16        0      30          0   0.0709659\n",
      "351      HC16    int64         0         95412            92        0      99          1     5.29874\n",
      "352      HC17    int64         0         95412           100        0      99         99     82.6305\n",
      "353      HC18    int64         0         95412           100        0      99          1     15.1529\n",
      "354      HC19    int64         0         95412           100        0      99         95     71.9446\n",
      "355      HC20    int64         0         95412            61        0      99         99     97.5616\n",
      "356      HC21    int64         0         95412            77        0      99         98     94.3939\n",
      "357     MHUC1    int64         0         95412            22        0      21          8     8.11284\n",
      "358     MHUC2    int64         0         95412             6        0       5          2     2.33155\n",
      "359       AC1    int64         0         95412            37        0      99          6     5.82587\n",
      "360       AC2    int64         0         95412            39        0      99          6     5.98133\n",
      "361   ADATE_2    int64         0         95412             2     9704    9706       9706        9706\n",
      "362   ADATE_3  float64      1950         93462             3     9604    9606       9606        9606\n",
      "363   ADATE_4  float64      2191         93221             9     9511    9609       9604     9604.02\n",
      "364   ADATE_5  float64     33590         61822             2     9604    9604       9604        9604\n",
      "365   ADATE_6  float64      3557         91855             3     9601    9603       9603        9603\n",
      "366   ADATE_7  float64      8874         86538             4     9512    9602       9602     9601.82\n",
      "367   ADATE_8  float64      3511         91901             6     9511    9605       9601     9594.79\n",
      "368   ADATE_9  float64     11245         84167             4     9509    9511       9511     9510.93\n",
      "369  ADATE_10  float64     32748         62664             3     9510    9511       9510     9510.08\n",
      "370  ADATE_11  float64     10422         84990             5     9508    9511       9510     9509.79\n",
      "371  ADATE_12  float64      8923         86489             5     9507    9510       9508     9508.44\n",
      "372  ADATE_13  float64     40219         55193             4     9502    9507       9507     9506.97\n",
      "373  ADATE_14  float64     18867         76545             3     9504    9506       9506        9506\n",
      "374  ADATE_15  float64     65477         29935             2     9504    9504       9504        9504\n",
      "375  ADATE_16  float64     20364         75048             4     9502    9504       9503     9503.02\n",
      "376  ADATE_17  float64     27650         67762             4     9501    9503       9502     9501.92\n",
      "377  ADATE_18  float64     21263         74149            10     9409    9508       9501     9464.21\n",
      "378  ADATE_19  float64     24480         70932             4     9409    9411       9411     9410.96\n",
      "379  ADATE_20  float64     50200         45212             3     9411    9412       9411        9411\n",
      "380  ADATE_21  float64     35212         60200             3     9409    9410       9410     9409.93\n",
      "381  ADATE_22  float64     25648         69764             6     9408    9506       9409     9410.04\n",
      "382  ADATE_23  float64     56270         39142             4     9312    9407       9407     9406.94\n",
      "383  ADATE_24  float64     36973         58439             3     9405    9406       9406        9406\n",
      "384     RFA_2   object         0         95412            14      L1E     L4G                       \n",
      "385     RFA_3   object         0         95412            71              S4G                       \n",
      "386     RFA_4   object         0         95412            64              S4G                       \n",
      "387     RFA_5   object         0         95412            41              S4G                       \n",
      "388     RFA_6   object         0         95412           109              U1G                       \n",
      "389     RFA_7   object         0         95412           106              U1G                       \n",
      "390     RFA_8   object         0         95412           109              U1G                       \n",
      "391     RFA_9   object         0         95412           107              U1G                       \n",
      "392    RFA_10   object         0         95412            94              S4G                       \n",
      "393    RFA_11   object         0         95412           101              S4G                       \n",
      "394    RFA_12   object         0         95412           107              U1G                       \n",
      "395    RFA_13   object         0         95412            87              U1G                       \n",
      "396    RFA_14   object         0         95412            95              U1E                       \n",
      "397    RFA_15   object         0         95412            34              U1F                       \n",
      "398    RFA_16   object         0         95412           123              U1G                       \n",
      "399    RFA_17   object         0         95412           118              U1G                       \n",
      "400    RFA_18   object         0         95412           122              U1G                       \n",
      "401    RFA_19   object         0         95412           108              U1G                       \n",
      "402    RFA_20   object         0         95412            80              U1E                       \n",
      "403    RFA_21   object         0         95412           102              S4G                       \n",
      "404    RFA_22   object         0         95412           117              U1G                       \n",
      "405    RFA_23   object         0         95412            87              U1F                       \n",
      "406    RFA_24   object         0         95412            97              U1G                       \n",
      "407  CARDPROM    int64         0         95412            59        1      61         18     18.4351\n",
      "408  MAXADATE    int64         0         95412             5     9608    9702       9702     9701.63\n",
      "409   NUMPROM    int64         0         95412           165        4     195         47     46.9733\n",
      "410  CARDPM12    int64         0         95412            19        0      19          6     5.34894\n",
      "411  NUMPRM12    int64         0         95412            63        1      78         12     12.8569\n",
      "412   RDATE_3  float64     95170           242            15     9605    9806       9607     9623.62\n",
      "413   RDATE_4  float64     95131           281            22     9510    9804       9605     9609.74\n",
      "414   RDATE_5  float64     95403             9             6     9604    9803       9607     9659.56\n",
      "415   RDATE_6  float64     94636           776            18     9510    9805       9603     9592.29\n",
      "416   RDATE_7  float64     86517          8895            10     9512    9610       9603     9602.72\n",
      "417   RDATE_8  float64     73940         21472            15     9511    9806       9602     9601.37\n",
      "418   RDATE_9  float64     78678         16734            11     9509    9609       9512     9524.16\n",
      "419  RDATE_10  float64     84951         10461             9     9510    9806       9511     9520.16\n",
      "420  RDATE_11  float64     80672         14740            13     9509    9805       9511     9516.61\n",
      "421  RDATE_12  float64     69712         25700            11     9509    9806       9509      9513.5\n",
      "422  RDATE_13  float64     83162         12250            15     9502    9603       9508     9509.09\n",
      "423  RDATE_14  float64     72095         23317            13     9406    9603       9506     9507.69\n",
      "424  RDATE_15  float64     88150          7262            17     9412    9603       9505     9506.24\n",
      "425  RDATE_16  float64     68418         26994            19     9411    9805       9504     9505.32\n",
      "426  RDATE_17  float64     86011          9401            12     9502    9512       9503     9503.24\n",
      "427  RDATE_18  float64     75634         19778            15     9412    9601       9501     9501.77\n",
      "428  RDATE_19  float64     79535         15877            14     9409    9509       9412     9424.19\n",
      "429  RDATE_20  float64     87524          7888            11     9411    9508       9412     9421.92\n",
      "430  RDATE_21  float64     85899          9513            13     9409    9508       9411     9419.22\n",
      "431  RDATE_22  float64     74539         20873            14     9409    9510       9409      9413.6\n",
      "432  RDATE_23  float64     87553          7859            18     9309    9507       9408     9409.34\n",
      "433  RDATE_24  float64     77674         17738            15     9309    9504       9407     9407.86\n",
      "434   RAMNT_3  float64     95170           242            30        2      50         10     12.2211\n",
      "435   RAMNT_4  float64     95131           281            33        1     100         10     14.5401\n",
      "436   RAMNT_5  float64     95403             9            10        4      50         12          17\n",
      "437   RAMNT_6  float64     94636           776            41        1     100         12     14.3569\n",
      "438   RAMNT_7  float64     86517          8895            76        1     250         15     15.0884\n",
      "439   RAMNT_8  float64     73940         21472           109        1     500         15     15.6737\n",
      "440   RAMNT_9  float64     78678         16734            91        1    1000         14      15.101\n",
      "441  RAMNT_10  float64     84951         10461            93      0.3     500         14     15.4151\n",
      "442  RAMNT_11  float64     80672         14740            83        1     300         12     14.5624\n",
      "443  RAMNT_12  float64     69712         25700           115        1     300         13     14.8599\n",
      "444  RAMNT_13  float64     83162         12250            78      0.1     500         10     13.4801\n",
      "445  RAMNT_14  float64     72095         23317           103        1     200         10     13.2523\n",
      "446  RAMNT_15  float64     88150          7262            77        1     300         10     13.3475\n",
      "447  RAMNT_16  float64     68418         26994           110      0.5     500         12     14.0321\n",
      "448  RAMNT_17  float64     86011          9401            75        1     500         10     12.7546\n",
      "449  RAMNT_18  float64     75634         19778           106        1    1000         10     12.2833\n",
      "450  RAMNT_19  float64     79535         15877            83        1     970         10      13.116\n",
      "451  RAMNT_20  float64     87524          7888            70      0.5     250         12     14.2621\n",
      "452  RAMNT_21  float64     85899          9513            78        1     300         10     12.9421\n",
      "453  RAMNT_22  float64     74539         20873            93     0.29     300         10     12.2663\n",
      "454  RAMNT_23  float64     87553          7859            77      0.3     200         10     12.1499\n",
      "455  RAMNT_24  float64     77674         17738            76        1     225         10     11.3649\n",
      "456  RAMNTALL  float64         0         95412          2094       13    9485         78     104.489\n",
      "457  NGIFTALL    int64         0         95412            89        1     237          7     9.60203\n",
      "458  CARDGIFT    int64         0         95412            37        0      41          4     5.05824\n",
      "459  MINRAMNT  float64         0         95412           191        0    1000          5     7.93366\n",
      "460  MINRDATE    int64         0         95412           146     7506    9702       9309     9252.65\n",
      "461  MAXRAMNT  float64         0         95412           275        5    5000         17     19.9998\n",
      "462  MAXRDATE    int64         0         95412           150     7510    9702       9506     9441.86\n",
      "463  LASTGIFT  float64         0         95412           231        0    1000         15     17.3131\n",
      "464  LASTDATE    int64         0         95412            24     9503    9702       9512      9548.1\n",
      "465  FISTDATE    int64         0         95412           177        0    9603       9201     9135.65\n",
      "466  NEXTDATE  float64      9973         85439           189     7211    9702       9204     9151.02\n",
      "467   TIMELAG  float64      9973         85439            69        0    1088          6     8.09374\n",
      "468   AVGGIFT  float64         0         95412          7713  1.28571    1000    11.6364     13.3478\n",
      "469  CONTROLN    int64         0         95412         95412        1  191779    95681.5     95778.2\n",
      "470  TARGET_B    int64         0         95412             2        0       1          0   0.0507588\n",
      "471  TARGET_D  float64         0         95412            71        0     200          0    0.793073\n",
      "472  HPHONE_D    int64         0         95412             2        0       1          1    0.500618\n",
      "473    RFA_2R   object         0         95412             1        L       L                       \n",
      "474    RFA_2F    int64         0         95412             4        1       4          2     1.91005\n",
      "475    RFA_2A   object         0         95412             4        D       G                       \n",
      "476  MDMAUD_R   object         0         95412             5        C       X                       \n",
      "477  MDMAUD_F   object         0         95412             4        1       X                       \n",
      "478  MDMAUD_A   object         0         95412             5        C       X                       \n",
      "479  CLUSTER2  float64       132         95280            63        1      62         32     31.5337\n",
      "480  GEOCODE2   object       132         95280             6                D                       \n"
     ]
    }
   ],
   "source": [
    "\n",
    "def what_is(df):\n",
    "    \"\"\"Show summary stats of a data frame\"\"\"\n",
    "    ret = []\n",
    "    for col, dtype in zip(df.columns, df.dtypes):\n",
    "        if np.issubdtype(dtype, np.number):\n",
    "            col_values = df[col]\n",
    "            val_max = col_values.max()\n",
    "            val_min = col_values.min()\n",
    "            val_mean = col_values.mean()\n",
    "            val_median = col_values.median()\n",
    "            unique_count = len(col_values.unique())\n",
    "            na_count = np.isnan(col_values).sum()\n",
    "            non_na_count = len(df) - na_count\n",
    "        elif np.issubdtype(dtype, np.object):\n",
    "            col_values = df[col].fillna('')\n",
    "            val_max = col_values.max()\n",
    "            val_min = col_values.min()\n",
    "            val_mean = ''\n",
    "            val_median = ''\n",
    "            unique_count = len(col_values.unique())\n",
    "            na_count = (col_values == '').sum()\n",
    "            non_na_count = len(df) - na_count\n",
    "        else:\n",
    "            val_max = None\n",
    "            val_min = None\n",
    "            val_mean = None\n",
    "            val_median = None\n",
    "            unique_count = None\n",
    "            na_count = None\n",
    "            non_na_count = None\n",
    "        row = (col, dtype, na_count, non_na_count, unique_count, val_min, val_max, val_median, val_mean)\n",
    "        ret.append(row)\n",
    "    summary = pd.DataFrame(ret, columns=['column', 'dtype', 'na_count', 'non_na_count', 'unique_count',\n",
    "                                         'val_min', 'val_max', 'val_median', 'val_mean'])\n",
    "    return summary\n",
    "\n",
    "def print_full(df, max_rows=1000, max_columns=1000, width=1000):\n",
    "    \"\"\"Print a data frame in full\"\"\"\n",
    "    with pd.option_context('display.max_rows', max_rows,\n",
    "                           'display.max_columns', max_columns,\n",
    "                           'display.width', width):\n",
    "        print(df)\n",
    "\n",
    "summary = what_is(dtrn)\n",
    "summary.pipe(print_full)"
   ]
  },
  {
   "cell_type": "code",
   "execution_count": 9,
   "metadata": {},
   "outputs": [
    {
     "name": "stdout",
     "output_type": "stream",
     "text": [
      "(95412, 481)\n",
      "(96367, 479)\n"
     ]
    },
    {
     "data": {
      "text/plain": [
       "{'TARGET_B', 'TARGET_D'}"
      ]
     },
     "execution_count": 9,
     "metadata": {},
     "output_type": "execute_result"
    }
   ],
   "source": [
    "print(dtrn.shape)\n",
    "print(dtst.shape)\n",
    "set(dtrn.columns).difference(dtst.columns)"
   ]
  },
  {
   "cell_type": "code",
   "execution_count": 10,
   "metadata": {},
   "outputs": [
    {
     "name": "stdout",
     "output_type": "stream",
     "text": [
      "     column    dtype  na_count  non_na_count  unique_count  val_min   val_max  val_median      val_mean\n",
      "0  CONTROLN    int64         0         96367         96367      3.0  191776.0     96125.0  96000.714871\n",
      "1  TARGET_B    int64         0         96367             2      0.0       1.0         0.0      0.050567\n",
      "2  TARGET_D  float64         0         96367            74      0.0     500.0         0.0      0.789582\n"
     ]
    }
   ],
   "source": [
    "what_is(dtst_target).pipe(print_full)"
   ]
  },
  {
   "cell_type": "code",
   "execution_count": 11,
   "metadata": {
    "collapsed": true
   },
   "outputs": [],
   "source": [
    "dtst = pd.merge(dtst, dtst_target, on='CONTROLN')"
   ]
  },
  {
   "cell_type": "code",
   "execution_count": 12,
   "metadata": {},
   "outputs": [
    {
     "name": "stdout",
     "output_type": "stream",
     "text": [
      "train data:\n",
      "      column    dtype  na_count  non_na_count  unique_count   val_min  val_max  val_median   val_mean\n",
      "0    AVGGIFT  float64         0         95412          7713  1.285714   1000.0   11.636364  13.347786\n",
      "1   LASTGIFT  float64         0         95412           231  0.000000   1000.0   15.000000  17.313127\n",
      "2   NGIFTALL    int64         0         95412            89  1.000000    237.0    7.000000   9.602031\n",
      "3    NUMPROM    int64         0         95412           165  4.000000    195.0   47.000000  46.973347\n",
      "4    RAMNT_3  float64     95170           242            30  2.000000     50.0   10.000000  12.221074\n",
      "5    RAMNT_4  float64     95131           281            33  1.000000    100.0   10.000000  14.540107\n",
      "6    RAMNT_5  float64     95403             9            10  4.000000     50.0   12.000000  17.000000\n",
      "7    RAMNT_6  float64     94636           776            41  1.000000    100.0   12.000000  14.356920\n",
      "8    RAMNT_7  float64     86517          8895            76  1.000000    250.0   15.000000  15.088435\n",
      "9    RAMNT_8  float64     73940         21472           109  1.000000    500.0   15.000000  15.673702\n",
      "10   RAMNT_9  float64     78678         16734            91  1.000000   1000.0   14.000000  15.101013\n",
      "11  RAMNT_10  float64     84951         10461            93  0.300000    500.0   14.000000  15.415070\n",
      "12  RAMNT_11  float64     80672         14740            83  1.000000    300.0   12.000000  14.562430\n",
      "13  RAMNT_12  float64     69712         25700           115  1.000000    300.0   13.000000  14.859901\n",
      "14  RAMNT_13  float64     83162         12250            78  0.100000    500.0   10.000000  13.480100\n",
      "15  RAMNT_14  float64     72095         23317           103  1.000000    200.0   10.000000  13.252321\n",
      "16  RAMNT_15  float64     88150          7262            77  1.000000    300.0   10.000000  13.347521\n",
      "17  RAMNT_16  float64     68418         26994           110  0.500000    500.0   12.000000  14.032142\n",
      "18  RAMNT_17  float64     86011          9401            75  1.000000    500.0   10.000000  12.754589\n",
      "19  RAMNT_18  float64     75634         19778           106  1.000000   1000.0   10.000000  12.283269\n",
      "20  RAMNT_19  float64     79535         15877            83  1.000000    970.0   10.000000  13.116019\n",
      "21  RAMNT_20  float64     87524          7888            70  0.500000    250.0   12.000000  14.262132\n",
      "22  RAMNT_21  float64     85899          9513            78  1.000000    300.0   10.000000  12.942051\n",
      "23  RAMNT_22  float64     74539         20873            93  0.290000    300.0   10.000000  12.266252\n",
      "24  RAMNT_23  float64     87553          7859            77  0.300000    200.0   10.000000  12.149945\n",
      "25  RAMNT_24  float64     77674         17738            76  1.000000    225.0   10.000000  11.364891\n",
      "26  TARGET_B    int64         0         95412             2  0.000000      1.0    0.000000   0.050759\n",
      "27  TARGET_D  float64         0         95412            71  0.000000    200.0    0.000000   0.793073\n",
      "\n",
      "validation data:\n",
      "      column    dtype  na_count  non_na_count  unique_count   val_min   val_max  val_median   val_mean\n",
      "0    AVGGIFT  float64         0         96367          7735  1.578947    650.00   11.666667  13.351390\n",
      "1   LASTGIFT  float64         0         96367           238  0.000000  10000.00   15.000000  17.471620\n",
      "2   NGIFTALL    int64         0         96367            90  1.000000    126.00    7.000000   9.538421\n",
      "3    NUMPROM    int64         0         96367           162  4.000000    189.00   47.000000  46.962695\n",
      "4    RAMNT_3  float64     96152           215            32  2.000000    200.00   10.000000  13.713953\n",
      "5    RAMNT_4  float64     96062           305            29  1.000000    100.00   10.000000  12.759016\n",
      "6    RAMNT_5  float64     96350            17             9  5.000000     30.00   11.000000  13.058824\n",
      "7    RAMNT_6  float64     95542           825            39  1.000000    100.00   12.000000  13.988291\n",
      "8    RAMNT_7  float64     87454          8913            82  1.000000    203.00   14.000000  14.860956\n",
      "9    RAMNT_8  float64     74541         21826           106  0.320000   3713.31   15.000000  15.862533\n",
      "10   RAMNT_9  float64     79324         17043            95  1.000000    300.00   14.000000  15.118230\n",
      "11  RAMNT_10  float64     86022         10345            80  1.000000  10000.00   13.000000  16.131328\n",
      "12  RAMNT_11  float64     81434         14933            95  1.000000   1000.00   13.000000  14.736444\n",
      "13  RAMNT_12  float64     70452         25915           130  1.000000    500.00   13.000000  14.955885\n",
      "14  RAMNT_13  float64     84037         12330            79  1.000000    300.00   10.000000  13.492277\n",
      "15  RAMNT_14  float64     72911         23456            94  1.000000    600.00   10.000000  13.355956\n",
      "16  RAMNT_15  float64     89201          7166            77  1.000000    500.00   10.000000  13.472439\n",
      "17  RAMNT_16  float64     69190         27177            99  0.500000    205.00   12.000000  13.938707\n",
      "18  RAMNT_17  float64     87026          9341            66  1.000000    500.00   10.000000  12.667500\n",
      "19  RAMNT_18  float64     76457         19910            86  0.320000    300.00   10.000000  12.228256\n",
      "20  RAMNT_19  float64     80339         16028            89  1.000000    250.00   10.000000  12.905185\n",
      "21  RAMNT_20  float64     88395          7972            75  1.000000    200.00   12.000000  14.306932\n",
      "22  RAMNT_21  float64     86553          9814            79  1.000000   1000.00   10.000000  13.071813\n",
      "23  RAMNT_22  float64     75374         20993            93  1.000000    500.00   10.000000  12.248863\n",
      "24  RAMNT_23  float64     88642          7725            70  1.000000    300.00   10.000000  12.048671\n",
      "25  RAMNT_24  float64     78676         17691            91  0.500000    250.00   10.000000  11.397258\n",
      "26  TARGET_B    int64         0         96367             2  0.000000      1.00    0.000000   0.050567\n",
      "27  TARGET_D  float64         0         96367            74  0.000000    500.00    0.000000   0.789582\n"
     ]
    }
   ],
   "source": [
    "amount_cols = [col for col in dtrn.columns if col.startswith('RAMNT_')]\n",
    "other_cols_to_use = ['AVGGIFT', 'LASTGIFT', 'NGIFTALL', 'NUMPROM','AGE', 'INCOME', 'GENDER']\n",
    "target_cols = ['TARGET_B', 'TARGET_D']\n",
    "\n",
    "\n",
    "print(\"train data:\")\n",
    "what_is(dtrn[other_cols_to_use + amount_cols + target_cols]).pipe(print_full)\n",
    "\n",
    "print()\n",
    "print(\"validation data:\")\n",
    "what_is(dtst[other_cols_to_use + amount_cols + target_cols]).pipe(print_full)"
   ]
  },
  {
   "cell_type": "code",
   "execution_count": 131,
   "metadata": {},
   "outputs": [
    {
     "name": "stdout",
     "output_type": "stream",
     "text": [
      "train data summary:\n",
      "      column    dtype  na_count  non_na_count  unique_count   val_min       val_max  val_median     val_mean\n",
      "0    avggift  float64         0         95412          7713  1.285714   1000.000000   11.636364    13.347786\n",
      "1   lastgift  float64         0         95412           231  0.000000   1000.000000   15.000000    17.313127\n",
      "2      pgift  float64         0         95412          2277  0.025000      1.768657    0.157895     0.179621\n",
      "3  ampergift  float64         0         95412          1469  0.000000   1000.000000   15.000000    15.993879\n",
      "4        AGE  float64         0         95412            97  0.000000     98.000000   52.000000    46.330137\n",
      "5     INCOME  float64         0         95412             8  0.000000      7.000000    3.000000     3.019243\n",
      "6    WEALTH1  float64         0         95412            10  0.000000      9.000000    1.000000     2.839475\n",
      "7     POP902    int64         0         95412          4786  0.000000  23766.000000  421.000000   864.993083\n",
      "8     POP903    int64         0         95412          5698  0.000000  35403.000000  585.000000  1222.573460\n",
      "\n",
      "validation data summary:\n",
      "      column    dtype  na_count  non_na_count  unique_count   val_min   val_max  val_median     val_mean\n",
      "0    avggift  float64         0         96367          7735  1.578947    650.00   11.666667    13.351390\n",
      "1   lastgift  float64         0         96367           238  0.000000  10000.00   15.000000    17.471620\n",
      "2      pgift  float64         0         96367          2290  0.025000      1.50    0.156863     0.178764\n",
      "3  ampergift  float64         0         96367          1418  0.000000   3713.31   15.000000    16.092854\n",
      "4        AGE  float64         0         96367            94  0.000000     98.00   53.000000    46.283427\n",
      "5     INCOME  float64         0         96367             8  0.000000      7.00    3.000000     3.028993\n",
      "6    WEALTH1  float64         0         96367            10  0.000000      9.00    1.000000     2.842488\n",
      "7     POP902    int64         0         96367          4803  0.000000  21036.00  423.000000   872.371797\n",
      "8     POP903    int64         0         96367          5714  0.000000  35403.00  588.000000  1232.698818\n"
     ]
    }
   ],
   "source": [
    "def featurize(df):\n",
    "    amount_cols = [col for col in df.columns if col.startswith('RAMNT_')]\n",
    "    ret = pd.concat([\n",
    "        df['AVGGIFT'],\n",
    "        df['LASTGIFT'],\n",
    "        df['NGIFTALL']/df['NUMPROM'],\n",
    "        # We generate another feature by averaging all RAMNT_ columns\n",
    "        df[amount_cols].mean(axis=1, skipna=True).fillna(0),\n",
    "        df['AGE'].fillna(0),\n",
    "        df['INCOME'].fillna(0),\n",
    "        df['WEALTH1'].fillna(0),\n",
    "        df['POP902'].fillna(0),\n",
    "        df['POP903'].fillna(0)\n",
    "    ], axis=1)\n",
    "    ret.columns = ['avggift', 'lastgift', 'pgift', 'ampergift', 'AGE', 'INCOME', 'WEALTH1', 'POP902', 'POP903']\n",
    "    return ret\n",
    "\n",
    "trn_x = featurize(dtrn)\n",
    "val_x = featurize(dtst)\n",
    "\n",
    "print(\"train data summary:\")\n",
    "what_is(trn_x).pipe(print_full)\n",
    "print()\n",
    "print(\"validation data summary:\")\n",
    "what_is(val_x).pipe(print_full)"
   ]
  },
  {
   "cell_type": "code",
   "execution_count": 132,
   "metadata": {},
   "outputs": [
    {
     "data": {
      "text/html": [
       "<div>\n",
       "<style>\n",
       "    .dataframe thead tr:only-child th {\n",
       "        text-align: right;\n",
       "    }\n",
       "\n",
       "    .dataframe thead th {\n",
       "        text-align: left;\n",
       "    }\n",
       "\n",
       "    .dataframe tbody tr th {\n",
       "        vertical-align: top;\n",
       "    }\n",
       "</style>\n",
       "<table border=\"1\" class=\"dataframe\">\n",
       "  <thead>\n",
       "    <tr style=\"text-align: right;\">\n",
       "      <th></th>\n",
       "      <th>avggift</th>\n",
       "      <th>lastgift</th>\n",
       "      <th>pgift</th>\n",
       "      <th>ampergift</th>\n",
       "      <th>AGE</th>\n",
       "      <th>INCOME</th>\n",
       "      <th>WEALTH1</th>\n",
       "      <th>POP902</th>\n",
       "      <th>POP903</th>\n",
       "    </tr>\n",
       "  </thead>\n",
       "  <tbody>\n",
       "    <tr>\n",
       "      <th>0</th>\n",
       "      <td>7.741935</td>\n",
       "      <td>10.0</td>\n",
       "      <td>0.418919</td>\n",
       "      <td>10.428571</td>\n",
       "      <td>60.0</td>\n",
       "      <td>0.0</td>\n",
       "      <td>0.0</td>\n",
       "      <td>264</td>\n",
       "      <td>332</td>\n",
       "    </tr>\n",
       "    <tr>\n",
       "      <th>1</th>\n",
       "      <td>15.666667</td>\n",
       "      <td>25.0</td>\n",
       "      <td>0.093750</td>\n",
       "      <td>18.500000</td>\n",
       "      <td>46.0</td>\n",
       "      <td>6.0</td>\n",
       "      <td>9.0</td>\n",
       "      <td>940</td>\n",
       "      <td>998</td>\n",
       "    </tr>\n",
       "    <tr>\n",
       "      <th>2</th>\n",
       "      <td>7.481481</td>\n",
       "      <td>5.0</td>\n",
       "      <td>0.428571</td>\n",
       "      <td>8.285714</td>\n",
       "      <td>0.0</td>\n",
       "      <td>3.0</td>\n",
       "      <td>1.0</td>\n",
       "      <td>2040</td>\n",
       "      <td>2669</td>\n",
       "    </tr>\n",
       "    <tr>\n",
       "      <th>3</th>\n",
       "      <td>6.812500</td>\n",
       "      <td>10.0</td>\n",
       "      <td>0.242424</td>\n",
       "      <td>9.285714</td>\n",
       "      <td>70.0</td>\n",
       "      <td>1.0</td>\n",
       "      <td>4.0</td>\n",
       "      <td>160</td>\n",
       "      <td>219</td>\n",
       "    </tr>\n",
       "    <tr>\n",
       "      <th>4</th>\n",
       "      <td>6.864865</td>\n",
       "      <td>15.0</td>\n",
       "      <td>0.327434</td>\n",
       "      <td>12.500000</td>\n",
       "      <td>78.0</td>\n",
       "      <td>3.0</td>\n",
       "      <td>2.0</td>\n",
       "      <td>627</td>\n",
       "      <td>761</td>\n",
       "    </tr>\n",
       "  </tbody>\n",
       "</table>\n",
       "</div>"
      ],
      "text/plain": [
       "     avggift  lastgift     pgift  ampergift   AGE  INCOME  WEALTH1  POP902  \\\n",
       "0   7.741935      10.0  0.418919  10.428571  60.0     0.0      0.0     264   \n",
       "1  15.666667      25.0  0.093750  18.500000  46.0     6.0      9.0     940   \n",
       "2   7.481481       5.0  0.428571   8.285714   0.0     3.0      1.0    2040   \n",
       "3   6.812500      10.0  0.242424   9.285714  70.0     1.0      4.0     160   \n",
       "4   6.864865      15.0  0.327434  12.500000  78.0     3.0      2.0     627   \n",
       "\n",
       "   POP903  \n",
       "0     332  \n",
       "1     998  \n",
       "2    2669  \n",
       "3     219  \n",
       "4     761  "
      ]
     },
     "execution_count": 132,
     "metadata": {},
     "output_type": "execute_result"
    }
   ],
   "source": [
    "trn_x.head()"
   ]
  },
  {
   "cell_type": "code",
   "execution_count": 133,
   "metadata": {},
   "outputs": [
    {
     "data": {
      "text/html": [
       "<div>\n",
       "<style>\n",
       "    .dataframe thead tr:only-child th {\n",
       "        text-align: right;\n",
       "    }\n",
       "\n",
       "    .dataframe thead th {\n",
       "        text-align: left;\n",
       "    }\n",
       "\n",
       "    .dataframe tbody tr th {\n",
       "        vertical-align: top;\n",
       "    }\n",
       "</style>\n",
       "<table border=\"1\" class=\"dataframe\">\n",
       "  <thead>\n",
       "    <tr style=\"text-align: right;\">\n",
       "      <th></th>\n",
       "      <th>avggift</th>\n",
       "      <th>lastgift</th>\n",
       "      <th>pgift</th>\n",
       "      <th>ampergift</th>\n",
       "      <th>AGE</th>\n",
       "      <th>INCOME</th>\n",
       "      <th>WEALTH1</th>\n",
       "      <th>POP902</th>\n",
       "      <th>POP903</th>\n",
       "    </tr>\n",
       "  </thead>\n",
       "  <tbody>\n",
       "    <tr>\n",
       "      <th>0</th>\n",
       "      <td>15.333333</td>\n",
       "      <td>15.0</td>\n",
       "      <td>0.142857</td>\n",
       "      <td>26.5</td>\n",
       "      <td>81.0</td>\n",
       "      <td>1.0</td>\n",
       "      <td>9.0</td>\n",
       "      <td>599</td>\n",
       "      <td>747</td>\n",
       "    </tr>\n",
       "    <tr>\n",
       "      <th>1</th>\n",
       "      <td>15.000000</td>\n",
       "      <td>20.0</td>\n",
       "      <td>0.095238</td>\n",
       "      <td>15.0</td>\n",
       "      <td>83.0</td>\n",
       "      <td>2.0</td>\n",
       "      <td>8.0</td>\n",
       "      <td>158</td>\n",
       "      <td>207</td>\n",
       "    </tr>\n",
       "    <tr>\n",
       "      <th>2</th>\n",
       "      <td>24.444444</td>\n",
       "      <td>25.0</td>\n",
       "      <td>0.147541</td>\n",
       "      <td>0.0</td>\n",
       "      <td>68.0</td>\n",
       "      <td>1.0</td>\n",
       "      <td>3.0</td>\n",
       "      <td>968</td>\n",
       "      <td>1399</td>\n",
       "    </tr>\n",
       "    <tr>\n",
       "      <th>3</th>\n",
       "      <td>13.666667</td>\n",
       "      <td>19.0</td>\n",
       "      <td>0.093750</td>\n",
       "      <td>18.0</td>\n",
       "      <td>48.0</td>\n",
       "      <td>0.0</td>\n",
       "      <td>0.0</td>\n",
       "      <td>1390</td>\n",
       "      <td>1721</td>\n",
       "    </tr>\n",
       "    <tr>\n",
       "      <th>4</th>\n",
       "      <td>5.750000</td>\n",
       "      <td>10.0</td>\n",
       "      <td>0.170213</td>\n",
       "      <td>6.6</td>\n",
       "      <td>44.0</td>\n",
       "      <td>7.0</td>\n",
       "      <td>9.0</td>\n",
       "      <td>1774</td>\n",
       "      <td>1915</td>\n",
       "    </tr>\n",
       "  </tbody>\n",
       "</table>\n",
       "</div>"
      ],
      "text/plain": [
       "     avggift  lastgift     pgift  ampergift   AGE  INCOME  WEALTH1  POP902  \\\n",
       "0  15.333333      15.0  0.142857       26.5  81.0     1.0      9.0     599   \n",
       "1  15.000000      20.0  0.095238       15.0  83.0     2.0      8.0     158   \n",
       "2  24.444444      25.0  0.147541        0.0  68.0     1.0      3.0     968   \n",
       "3  13.666667      19.0  0.093750       18.0  48.0     0.0      0.0    1390   \n",
       "4   5.750000      10.0  0.170213        6.6  44.0     7.0      9.0    1774   \n",
       "\n",
       "   POP903  \n",
       "0     747  \n",
       "1     207  \n",
       "2    1399  \n",
       "3    1721  \n",
       "4    1915  "
      ]
     },
     "execution_count": 133,
     "metadata": {},
     "output_type": "execute_result"
    }
   ],
   "source": [
    "val_x.head()"
   ]
  },
  {
   "cell_type": "markdown",
   "metadata": {},
   "source": [
    "# Applying Logistic Regression Classifier"
   ]
  },
  {
   "cell_type": "code",
   "execution_count": 134,
   "metadata": {},
   "outputs": [
    {
     "name": "stdout",
     "output_type": "stream",
     "text": [
      "On training data\n",
      "AUC = 0.5916\n"
     ]
    },
    {
     "data": {
      "image/png": "[encoded data removed]",
      "text/plain": [
       "<matplotlib.figure.Figure at 0x10d7b6e48>"
      ]
     },
     "metadata": {},
     "output_type": "display_data"
    },
    {
     "name": "stdout",
     "output_type": "stream",
     "text": [
      "On testing data\n",
      "AUC = 0.5896\n"
     ]
    },
    {
     "data": {
      "image/png": "[encoded data removed]",
      "text/plain": [
       "<matplotlib.figure.Figure at 0x10fe1a080>"
      ]
     },
     "metadata": {},
     "output_type": "display_data"
    }
   ],
   "source": [
    "# TARGET_B represents whether someone has donated or not\n",
    "from sklearn.linear_model import LogisticRegression \n",
    "\n",
    "trn_y = dtrn['TARGET_B']\n",
    "val_y = dtst['TARGET_B']\n",
    "\n",
    "m = LogisticRegression()\n",
    "m.fit(trn_x, trn_y)\n",
    "\n",
    "def plot_auc(target, pred):\n",
    "    fpr, tpr, _ = roc_curve(y_true=target, y_score=pred)\n",
    "    plt.plot(fpr, tpr)\n",
    "    plt.plot([0, 1], [0, 1], 'r--')\n",
    "    plt.grid()\n",
    "    print('AUC = {:.4f}'.format(auc(fpr, tpr)))\n",
    "    plt.show()\n",
    "\n",
    "print(\"On training data\")\n",
    "pred = m.predict_proba(trn_x)[:,1]\n",
    "target = trn_y\n",
    "plot_auc(target=target, pred=pred)\n",
    "\n",
    "print(\"On testing data\")\n",
    "pred = m.predict_proba(val_x)[:,1]\n",
    "target = val_y\n",
    "plot_auc(target=target, pred=pred)\n",
    "\n",
    "# save the prediction for later use\n",
    "pred_response_prob_lr = m.predict_proba(val_x)[:,1]\n"
   ]
  },
  {
   "cell_type": "code",
   "execution_count": 135,
   "metadata": {},
   "outputs": [
    {
     "name": "stdout",
     "output_type": "stream",
     "text": [
      "in training data, found 4843.0 samples with positive donation amount\n",
      "in validation data, found 4873.0 samples with positive donation amount\n",
      "On training data\n",
      "R-squared: 0.549\n"
     ]
    },
    {
     "data": {
      "image/png": "[encoded data removed]",
      "text/plain": [
       "<matplotlib.figure.Figure at 0x10ec88240>"
      ]
     },
     "metadata": {},
     "output_type": "display_data"
    },
    {
     "name": "stdout",
     "output_type": "stream",
     "text": [
      "On testing data\n",
      "R-squared: 0.668\n"
     ]
    },
    {
     "data": {
      "image/png": "[encoded data removed]",
      "text/plain": [
       "<matplotlib.figure.Figure at 0x145fdc278>"
      ]
     },
     "metadata": {},
     "output_type": "display_data"
    }
   ],
   "source": [
    "import math\n",
    "\n",
    "from sklearn.linear_model import LinearRegression\n",
    "\n",
    "idx = dtrn['TARGET_D'] > 0\n",
    "print(\"in training data, found {} samples with positive donation amount\".format(math.fsum(idx)))\n",
    "trn_x_amount = trn_x.loc[idx]\n",
    "trn_y_amount = dtrn.loc[idx, 'TARGET_D']\n",
    "\n",
    "idx = dtst['TARGET_D'] > 0\n",
    "print(\"in validation data, found {} samples with positive donation amount\".format(math.fsum(idx)))\n",
    "val_x_amount = val_x.loc[idx]\n",
    "val_y_amount = dtst.loc[idx, 'TARGET_D']\n",
    "\n",
    "m = LinearRegression()\n",
    "m.fit(trn_x_amount, trn_y_amount)\n",
    "\n",
    "def plot_rsquared(target, pred):\n",
    "    print('R-squared: {:.3f}'.format(r2_score(y_true=target, y_pred=pred)))\n",
    "    plt.plot(pred, target, '.')\n",
    "    plt.grid()\n",
    "    y_max = max(pred.max(), target.max())\n",
    "    plt.plot([0, y_max], [0, y_max], 'r--')\n",
    "    plt.show()\n",
    "\n",
    "print(\"On training data\")\n",
    "pred = m.predict(trn_x_amount)\n",
    "target = trn_y_amount\n",
    "plot_rsquared(target=target, pred=pred)\n",
    "\n",
    "print(\"On testing data\")\n",
    "pred = m.predict(val_x_amount)\n",
    "target = val_y_amount\n",
    "plot_rsquared(target=target, pred=pred)\n",
    "\n",
    "# save the amount prediction for later use\n",
    "pred_amount = m.predict(val_x)"
   ]
  },
  {
   "cell_type": "code",
   "execution_count": 136,
   "metadata": {},
   "outputs": [
    {
     "data": {
      "image/png": "[encoded data removed]",
      "text/plain": [
       "<matplotlib.figure.Figure at 0x10ebceb00>"
      ]
     },
     "metadata": {},
     "output_type": "display_data"
    }
   ],
   "source": [
    "expected_donation_lr = pred_amount * pred_response_prob_lr\n",
    "plt.hist(expected_donation_lr)\n",
    "plt.show()"
   ]
  },
  {
   "cell_type": "code",
   "execution_count": 137,
   "metadata": {
    "collapsed": true
   },
   "outputs": [],
   "source": [
    "actual_donation = dtst['TARGET_D']"
   ]
  },
  {
   "cell_type": "code",
   "execution_count": 138,
   "metadata": {},
   "outputs": [
    {
     "name": "stdout",
     "output_type": "stream",
     "text": [
      "Total net donation: 9252.81\n"
     ]
    }
   ],
   "source": [
    "cost_per_mail = 0.68\n",
    "idx = expected_donation_lr > cost_per_mail\n",
    "print('Total net donation: {:.2f}'.format(np.sum(actual_donation[idx] - cost_per_mail)))"
   ]
  },
  {
   "cell_type": "code",
   "execution_count": 139,
   "metadata": {},
   "outputs": [
    {
     "name": "stdout",
     "output_type": "stream",
     "text": [
      "Total net donation (mail every one): 10560.08\n"
     ]
    }
   ],
   "source": [
    "print('Total net donation (mail every one): {:.2f}'.format(np.sum(actual_donation - cost_per_mail)))"
   ]
  },
  {
   "cell_type": "code",
   "execution_count": 140,
   "metadata": {},
   "outputs": [
    {
     "data": {
      "image/png": "[encoded data removed]",
      "text/plain": [
       "<matplotlib.figure.Figure at 0x118726ac8>"
      ]
     },
     "metadata": {},
     "output_type": "display_data"
    }
   ],
   "source": [
    "plt.plot(pred_amount, pred_response_prob_lr, '.')\n",
    "plt.xlabel('pred donation amount')\n",
    "plt.ylabel('response probability')\n",
    "plt.xscale('log')\n",
    "plt.grid()\n",
    "plt.show()"
   ]
  },
  {
   "cell_type": "markdown",
   "metadata": {},
   "source": [
    "# Applying Decision Trees classifier - CART"
   ]
  },
  {
   "cell_type": "code",
   "execution_count": 141,
   "metadata": {},
   "outputs": [
    {
     "name": "stdout",
     "output_type": "stream",
     "text": [
      "On training data\n",
      "AUC = 1.0000\n"
     ]
    },
    {
     "data": {
      "image/png": "[encoded data removed]",
      "text/plain": [
       "<matplotlib.figure.Figure at 0x118984f98>"
      ]
     },
     "metadata": {},
     "output_type": "display_data"
    },
    {
     "name": "stdout",
     "output_type": "stream",
     "text": [
      "On testing data\n",
      "AUC = 0.5038\n"
     ]
    },
    {
     "data": {
      "image/png": "[encoded data removed]",
      "text/plain": [
       "<matplotlib.figure.Figure at 0x118984f60>"
      ]
     },
     "metadata": {},
     "output_type": "display_data"
    }
   ],
   "source": [
    "from sklearn import tree\n",
    "\n",
    "trn_y = dtrn['TARGET_B']\n",
    "val_y = dtst['TARGET_B']\n",
    "\n",
    "dt_clf = tree.DecisionTreeClassifier()\n",
    "dt_clf.fit(trn_x, trn_y)\n",
    "\n",
    "def plot_auc(target, pred):\n",
    "    fpr, tpr, _ = roc_curve(y_true=target, y_score=pred)\n",
    "    plt.plot(fpr, tpr)\n",
    "    plt.plot([0, 1], [0, 1], 'r--')\n",
    "    plt.grid()\n",
    "    print('AUC = {:.4f}'.format(auc(fpr, tpr)))\n",
    "    plt.show()\n",
    "\n",
    "print(\"On training data\")\n",
    "pred = dt_clf.predict_proba(trn_x)[:,1]\n",
    "target = trn_y\n",
    "plot_auc(target=target, pred=pred)\n",
    "\n",
    "print(\"On testing data\")\n",
    "pred = dt_clf.predict_proba(val_x)[:,1]\n",
    "target = val_y\n",
    "plot_auc(target=target, pred=pred)\n",
    "\n",
    "# save the prediction for later use\n",
    "pred_response_prob_dt = dt_clf.predict_proba(val_x)[:,1]"
   ]
  },
  {
   "cell_type": "code",
   "execution_count": 142,
   "metadata": {},
   "outputs": [
    {
     "name": "stdout",
     "output_type": "stream",
     "text": [
      "in training data, found 4843.0 samples with positive donation amount\n",
      "in validation data, found 4873.0 samples with positive donation amount\n",
      "On training data\n",
      "R-squared: 0.549\n"
     ]
    },
    {
     "data": {
      "image/png": "[encoded data removed]",
      "text/plain": [
       "<matplotlib.figure.Figure at 0x118e1f2b0>"
      ]
     },
     "metadata": {},
     "output_type": "display_data"
    },
    {
     "name": "stdout",
     "output_type": "stream",
     "text": [
      "On testing data\n",
      "R-squared: 0.668\n"
     ]
    },
    {
     "data": {
      "image/png": "[encoded data removed]",
      "text/plain": [
       "<matplotlib.figure.Figure at 0x10fddf3c8>"
      ]
     },
     "metadata": {},
     "output_type": "display_data"
    }
   ],
   "source": [
    "import math\n",
    "\n",
    "from sklearn.linear_model import LinearRegression\n",
    "\n",
    "idx = dtrn['TARGET_D'] > 0\n",
    "print(\"in training data, found {} samples with positive donation amount\".format(math.fsum(idx)))\n",
    "trn_x_amount = trn_x.loc[idx]\n",
    "trn_y_amount = dtrn.loc[idx, 'TARGET_D']\n",
    "\n",
    "idx = dtst['TARGET_D'] > 0\n",
    "print(\"in validation data, found {} samples with positive donation amount\".format(math.fsum(idx)))\n",
    "val_x_amount = val_x.loc[idx]\n",
    "val_y_amount = dtst.loc[idx, 'TARGET_D']\n",
    "\n",
    "m = LinearRegression()\n",
    "m.fit(trn_x_amount, trn_y_amount)\n",
    "\n",
    "def plot_rsquared(target, pred):\n",
    "    print('R-squared: {:.3f}'.format(r2_score(y_true=target, y_pred=pred)))\n",
    "    plt.plot(pred, target, '.')\n",
    "    plt.grid()\n",
    "    y_max = max(pred.max(), target.max())\n",
    "    plt.plot([0, y_max], [0, y_max], 'r--')\n",
    "    plt.show()\n",
    "\n",
    "print(\"On training data\")\n",
    "pred = m.predict(trn_x_amount)\n",
    "target = trn_y_amount\n",
    "plot_rsquared(target=target, pred=pred)\n",
    "\n",
    "print(\"On testing data\")\n",
    "pred = m.predict(val_x_amount)\n",
    "target = val_y_amount\n",
    "plot_rsquared(target=target, pred=pred)\n",
    "\n",
    "# save the amount prediction for later use\n",
    "pred_amount = m.predict(val_x)"
   ]
  },
  {
   "cell_type": "code",
   "execution_count": 143,
   "metadata": {},
   "outputs": [
    {
     "data": {
      "image/png": "[encoded data removed]",
      "text/plain": [
       "<matplotlib.figure.Figure at 0x1189849b0>"
      ]
     },
     "metadata": {},
     "output_type": "display_data"
    }
   ],
   "source": [
    "expected_donation_dt = pred_amount * pred_response_prob_dt\n",
    "plt.hist(expected_donation_dt)\n",
    "plt.show()"
   ]
  },
  {
   "cell_type": "code",
   "execution_count": 144,
   "metadata": {
    "collapsed": true
   },
   "outputs": [],
   "source": [
    "actual_donation = dtst['TARGET_D']"
   ]
  },
  {
   "cell_type": "code",
   "execution_count": 145,
   "metadata": {},
   "outputs": [
    {
     "name": "stdout",
     "output_type": "stream",
     "text": [
      "Total net donation: 1010.31\n"
     ]
    }
   ],
   "source": [
    "cost_per_mail = 0.68\n",
    "idx = expected_donation_dt > cost_per_mail\n",
    "print('Total net donation: {:.2f}'.format(np.sum(actual_donation[idx] - cost_per_mail)))"
   ]
  },
  {
   "cell_type": "code",
   "execution_count": 146,
   "metadata": {},
   "outputs": [
    {
     "name": "stdout",
     "output_type": "stream",
     "text": [
      "Total net donation (mail every one): 10560.08\n"
     ]
    }
   ],
   "source": [
    "print('Total net donation (mail every one): {:.2f}'.format(np.sum(actual_donation - cost_per_mail)))"
   ]
  },
  {
   "cell_type": "code",
   "execution_count": 147,
   "metadata": {},
   "outputs": [
    {
     "data": {
      "image/png": "[encoded data removed]",
      "text/plain": [
       "<matplotlib.figure.Figure at 0x10e3f10f0>"
      ]
     },
     "metadata": {},
     "output_type": "display_data"
    }
   ],
   "source": [
    "plt.plot(pred_amount, pred_response_prob_dt, '.')\n",
    "plt.xlabel('pred donation amount')\n",
    "plt.ylabel('response probability')\n",
    "plt.xscale('log')\n",
    "plt.grid()\n",
    "plt.show()"
   ]
  },
  {
   "cell_type": "markdown",
   "metadata": {},
   "source": [
    "# Applying Naive Bayes Classifier"
   ]
  },
  {
   "cell_type": "code",
   "execution_count": 148,
   "metadata": {},
   "outputs": [
    {
     "name": "stdout",
     "output_type": "stream",
     "text": [
      "On training data\n",
      "AUC = 0.5898\n"
     ]
    },
    {
     "data": {
      "image/png": "[encoded data removed]",
      "text/plain": [
       "<matplotlib.figure.Figure at 0x10ebd3550>"
      ]
     },
     "metadata": {},
     "output_type": "display_data"
    },
    {
     "name": "stdout",
     "output_type": "stream",
     "text": [
      "On testing data\n",
      "AUC = 0.5874\n"
     ]
    },
    {
     "data": {
      "image/png": "[encoded data removed]",
      "text/plain": [
       "<matplotlib.figure.Figure at 0x10fe22eb8>"
      ]
     },
     "metadata": {},
     "output_type": "display_data"
    }
   ],
   "source": [
    "from sklearn.naive_bayes import GaussianNB\n",
    "\n",
    "trn_y = dtrn['TARGET_B']\n",
    "val_y = dtst['TARGET_B']\n",
    "\n",
    "nb = GaussianNB()\n",
    "nb.fit(trn_x, trn_y)\n",
    "\n",
    "def plot_auc(target, pred):\n",
    "    fpr, tpr, _ = roc_curve(y_true=target, y_score=pred)\n",
    "    plt.plot(fpr, tpr)\n",
    "    plt.plot([0, 1], [0, 1], 'r--')\n",
    "    plt.grid()\n",
    "    print('AUC = {:.4f}'.format(auc(fpr, tpr)))\n",
    "    plt.show()\n",
    "\n",
    "print(\"On training data\")\n",
    "pred = nb.predict_proba(trn_x)[:,1]\n",
    "target = trn_y\n",
    "plot_auc(target=target, pred=pred)\n",
    "\n",
    "print(\"On testing data\")\n",
    "pred = nb.predict_proba(val_x)[:,1]\n",
    "target = val_y\n",
    "plot_auc(target=target, pred=pred)\n",
    "\n",
    "# save the prediction for later use\n",
    "pred_response_prob_nb = nb.predict_proba(val_x)[:,1]"
   ]
  },
  {
   "cell_type": "code",
   "execution_count": 149,
   "metadata": {},
   "outputs": [
    {
     "name": "stdout",
     "output_type": "stream",
     "text": [
      "in training data, found 4843.0 samples with positive donation amount\n",
      "in validation data, found 4873.0 samples with positive donation amount\n",
      "On training data\n",
      "R-squared: 0.549\n"
     ]
    },
    {
     "data": {
      "image/png": "[encoded data removed]",
      "text/plain": [
       "<matplotlib.figure.Figure at 0x10de9cc88>"
      ]
     },
     "metadata": {},
     "output_type": "display_data"
    },
    {
     "name": "stdout",
     "output_type": "stream",
     "text": [
      "On testing data\n",
      "R-squared: 0.668\n"
     ]
    },
    {
     "data": {
      "image/png": "[encoded data removed]",
      "text/plain": [
       "<matplotlib.figure.Figure at 0x10e41c320>"
      ]
     },
     "metadata": {},
     "output_type": "display_data"
    }
   ],
   "source": [
    "import math\n",
    "\n",
    "from sklearn.linear_model import LinearRegression\n",
    "\n",
    "idx = dtrn['TARGET_D'] > 0\n",
    "print(\"in training data, found {} samples with positive donation amount\".format(math.fsum(idx)))\n",
    "trn_x_amount = trn_x.loc[idx]\n",
    "trn_y_amount = dtrn.loc[idx, 'TARGET_D']\n",
    "\n",
    "idx = dtst['TARGET_D'] > 0\n",
    "print(\"in validation data, found {} samples with positive donation amount\".format(math.fsum(idx)))\n",
    "val_x_amount = val_x.loc[idx]\n",
    "val_y_amount = dtst.loc[idx, 'TARGET_D']\n",
    "\n",
    "m = LinearRegression()\n",
    "m.fit(trn_x_amount, trn_y_amount)\n",
    "\n",
    "def plot_rsquared(target, pred):\n",
    "    print('R-squared: {:.3f}'.format(r2_score(y_true=target, y_pred=pred)))\n",
    "    plt.plot(pred, target, '.')\n",
    "    plt.grid()\n",
    "    y_max = max(pred.max(), target.max())\n",
    "    plt.plot([0, y_max], [0, y_max], 'r--')\n",
    "    plt.show()\n",
    "\n",
    "print(\"On training data\")\n",
    "pred = m.predict(trn_x_amount)\n",
    "target = trn_y_amount\n",
    "plot_rsquared(target=target, pred=pred)\n",
    "\n",
    "print(\"On testing data\")\n",
    "pred = m.predict(val_x_amount)\n",
    "target = val_y_amount\n",
    "plot_rsquared(target=target, pred=pred)\n",
    "\n",
    "# save the amount prediction for later use\n",
    "pred_amount = m.predict(val_x)"
   ]
  },
  {
   "cell_type": "code",
   "execution_count": 150,
   "metadata": {},
   "outputs": [
    {
     "data": {
      "image/png": "[encoded data removed]",
      "text/plain": [
       "<matplotlib.figure.Figure at 0x10d552b38>"
      ]
     },
     "metadata": {},
     "output_type": "display_data"
    }
   ],
   "source": [
    "expected_donation_nb = pred_amount * pred_response_prob_nb\n",
    "plt.hist(expected_donation_nb)\n",
    "plt.show()"
   ]
  },
  {
   "cell_type": "code",
   "execution_count": 151,
   "metadata": {
    "collapsed": true
   },
   "outputs": [],
   "source": [
    "actual_donation = dtst['TARGET_D']"
   ]
  },
  {
   "cell_type": "code",
   "execution_count": 152,
   "metadata": {},
   "outputs": [
    {
     "name": "stdout",
     "output_type": "stream",
     "text": [
      "Total net donation: 5977.37\n"
     ]
    }
   ],
   "source": [
    "cost_per_mail = 0.68\n",
    "idx = expected_donation_nb > cost_per_mail\n",
    "print('Total net donation: {:.2f}'.format(np.sum(actual_donation[idx] - cost_per_mail)))"
   ]
  },
  {
   "cell_type": "code",
   "execution_count": 153,
   "metadata": {},
   "outputs": [
    {
     "name": "stdout",
     "output_type": "stream",
     "text": [
      "Total net donation (mail every one): 10560.08\n"
     ]
    }
   ],
   "source": [
    "print('Total net donation (mail every one): {:.2f}'.format(np.sum(actual_donation - cost_per_mail)))"
   ]
  },
  {
   "cell_type": "code",
   "execution_count": 154,
   "metadata": {},
   "outputs": [
    {
     "data": {
      "image/png": "[encoded data removed]",
      "text/plain": [
       "<matplotlib.figure.Figure at 0x10fd8ed30>"
      ]
     },
     "metadata": {},
     "output_type": "display_data"
    }
   ],
   "source": [
    "plt.plot(pred_amount, pred_response_prob_nb, '.')\n",
    "plt.xlabel('pred donation amount')\n",
    "plt.ylabel('response probability')\n",
    "plt.xscale('log')\n",
    "plt.grid()\n",
    "plt.show()"
   ]
  },
  {
   "cell_type": "markdown",
   "metadata": {},
   "source": [
    "# Applying Random Forest Classifier"
   ]
  },
  {
   "cell_type": "code",
   "execution_count": 155,
   "metadata": {},
   "outputs": [
    {
     "name": "stdout",
     "output_type": "stream",
     "text": [
      "On training data\n",
      "AUC = 0.9999\n"
     ]
    },
    {
     "data": {
      "image/png": "[encoded data removed]",
      "text/plain": [
       "<matplotlib.figure.Figure at 0x10fd0f080>"
      ]
     },
     "metadata": {},
     "output_type": "display_data"
    },
    {
     "name": "stdout",
     "output_type": "stream",
     "text": [
      "On testing data\n",
      "AUC = 0.5228\n"
     ]
    },
    {
     "data": {
      "image/png": "[encoded data removed]",
      "text/plain": [
       "<matplotlib.figure.Figure at 0x11b01f0f0>"
      ]
     },
     "metadata": {},
     "output_type": "display_data"
    }
   ],
   "source": [
    "from sklearn.ensemble import RandomForestClassifier\n",
    "\n",
    "trn_y = dtrn['TARGET_B']\n",
    "val_y = dtst['TARGET_B']\n",
    "\n",
    "rf = RandomForestClassifier()\n",
    "rf.fit(trn_x, trn_y)\n",
    "\n",
    "def plot_auc(target, pred):\n",
    "    fpr, tpr, _ = roc_curve(y_true=target, y_score=pred)\n",
    "    plt.plot(fpr, tpr)\n",
    "    plt.plot([0, 1], [0, 1], 'r--')\n",
    "    plt.grid()\n",
    "    print('AUC = {:.4f}'.format(auc(fpr, tpr)))\n",
    "    plt.show()\n",
    "\n",
    "print(\"On training data\")\n",
    "pred = rf.predict_proba(trn_x)[:,1]\n",
    "target = trn_y\n",
    "plot_auc(target=target, pred=pred)\n",
    "\n",
    "print(\"On testing data\")\n",
    "pred = rf.predict_proba(val_x)[:,1]\n",
    "target = val_y\n",
    "plot_auc(target=target, pred=pred)\n",
    "\n",
    "# save the prediction for later use\n",
    "pred_response_prob_rf = rf.predict_proba(val_x)[:,1]"
   ]
  },
  {
   "cell_type": "code",
   "execution_count": 156,
   "metadata": {},
   "outputs": [
    {
     "name": "stdout",
     "output_type": "stream",
     "text": [
      "in training data, found 4843.0 samples with positive donation amount\n",
      "in validation data, found 4873.0 samples with positive donation amount\n",
      "On training data\n",
      "R-squared: 0.549\n"
     ]
    },
    {
     "data": {
      "image/png": "[encoded data removed]",
      "text/plain": [
       "<matplotlib.figure.Figure at 0x10e462208>"
      ]
     },
     "metadata": {},
     "output_type": "display_data"
    },
    {
     "name": "stdout",
     "output_type": "stream",
     "text": [
      "On testing data\n",
      "R-squared: 0.668\n"
     ]
    },
    {
     "data": {
      "image/png": "[encoded data removed]",
      "text/plain": [
       "<matplotlib.figure.Figure at 0x1189acb38>"
      ]
     },
     "metadata": {},
     "output_type": "display_data"
    }
   ],
   "source": [
    "import math\n",
    "\n",
    "from sklearn.linear_model import LinearRegression\n",
    "\n",
    "idx = dtrn['TARGET_D'] > 0\n",
    "print(\"in training data, found {} samples with positive donation amount\".format(math.fsum(idx)))\n",
    "trn_x_amount = trn_x.loc[idx]\n",
    "trn_y_amount = dtrn.loc[idx, 'TARGET_D']\n",
    "\n",
    "idx = dtst['TARGET_D'] > 0\n",
    "print(\"in validation data, found {} samples with positive donation amount\".format(math.fsum(idx)))\n",
    "val_x_amount = val_x.loc[idx]\n",
    "val_y_amount = dtst.loc[idx, 'TARGET_D']\n",
    "\n",
    "m = LinearRegression()\n",
    "m.fit(trn_x_amount, trn_y_amount)\n",
    "\n",
    "def plot_rsquared(target, pred):\n",
    "    print('R-squared: {:.3f}'.format(r2_score(y_true=target, y_pred=pred)))\n",
    "    plt.plot(pred, target, '.')\n",
    "    plt.grid()\n",
    "    y_max = max(pred.max(), target.max())\n",
    "    plt.plot([0, y_max], [0, y_max], 'r--')\n",
    "    plt.show()\n",
    "\n",
    "print(\"On training data\")\n",
    "pred = m.predict(trn_x_amount)\n",
    "target = trn_y_amount\n",
    "plot_rsquared(target=target, pred=pred)\n",
    "\n",
    "print(\"On testing data\")\n",
    "pred = m.predict(val_x_amount)\n",
    "target = val_y_amount\n",
    "plot_rsquared(target=target, pred=pred)\n",
    "\n",
    "# save the amount prediction for later use\n",
    "pred_amount = m.predict(val_x)"
   ]
  },
  {
   "cell_type": "code",
   "execution_count": 157,
   "metadata": {},
   "outputs": [
    {
     "data": {
      "image/png": "[encoded data removed]",
      "text/plain": [
       "<matplotlib.figure.Figure at 0x1456aa4e0>"
      ]
     },
     "metadata": {},
     "output_type": "display_data"
    }
   ],
   "source": [
    "expected_donation_rf = pred_amount * pred_response_prob_rf\n",
    "plt.hist(expected_donation_rf)\n",
    "plt.show()"
   ]
  },
  {
   "cell_type": "code",
   "execution_count": 158,
   "metadata": {
    "collapsed": true
   },
   "outputs": [],
   "source": [
    "actual_donation = dtst['TARGET_D']"
   ]
  },
  {
   "cell_type": "code",
   "execution_count": 159,
   "metadata": {},
   "outputs": [
    {
     "name": "stdout",
     "output_type": "stream",
     "text": [
      "Total net donation: 4963.58\n"
     ]
    }
   ],
   "source": [
    "cost_per_mail = 0.68\n",
    "idx = expected_donation_rf > cost_per_mail\n",
    "print('Total net donation: {:.2f}'.format(np.sum(actual_donation[idx] - cost_per_mail)))"
   ]
  },
  {
   "cell_type": "code",
   "execution_count": 160,
   "metadata": {},
   "outputs": [
    {
     "name": "stdout",
     "output_type": "stream",
     "text": [
      "Total net donation (mail every one): 10560.08\n"
     ]
    }
   ],
   "source": [
    "print('Total net donation (mail every one): {:.2f}'.format(np.sum(actual_donation - cost_per_mail)))"
   ]
  },
  {
   "cell_type": "code",
   "execution_count": 161,
   "metadata": {},
   "outputs": [
    {
     "data": {
      "image/png": "[encoded data removed]",
      "text/plain": [
       "<matplotlib.figure.Figure at 0x118beab70>"
      ]
     },
     "metadata": {},
     "output_type": "display_data"
    }
   ],
   "source": [
    "plt.plot(pred_amount, pred_response_prob_rf, '.')\n",
    "plt.xlabel('pred donation amount')\n",
    "plt.ylabel('response probability')\n",
    "plt.xscale('log')\n",
    "plt.grid()\n",
    "plt.show()"
   ]
  },
  {
   "cell_type": "markdown",
   "metadata": {},
   "source": [
    "# Applying Gradient Boosted Trees Classifier - Best Model"
   ]
  },
  {
   "cell_type": "code",
   "execution_count": 162,
   "metadata": {},
   "outputs": [
    {
     "name": "stdout",
     "output_type": "stream",
     "text": [
      "On training data\n",
      "AUC = 0.6381\n"
     ]
    },
    {
     "data": {
      "image/png": "[encoded data removed]",
      "text/plain": [
       "<matplotlib.figure.Figure at 0x119b6b390>"
      ]
     },
     "metadata": {},
     "output_type": "display_data"
    },
    {
     "name": "stdout",
     "output_type": "stream",
     "text": [
      "On testing data\n",
      "AUC = 0.6078\n"
     ]
    },
    {
     "data": {
      "image/png": "[encoded data removed]",
      "text/plain": [
       "<matplotlib.figure.Figure at 0x10ebd8dd8>"
      ]
     },
     "metadata": {},
     "output_type": "display_data"
    }
   ],
   "source": [
    "from sklearn.ensemble import GradientBoostingClassifier\n",
    "\n",
    "trn_y = dtrn['TARGET_B']\n",
    "val_y = dtst['TARGET_B']\n",
    "\n",
    "gb = GradientBoostingClassifier()\n",
    "gb.fit(trn_x, trn_y)\n",
    "\n",
    "def plot_auc(target, pred):\n",
    "    fpr, tpr, _ = roc_curve(y_true=target, y_score=pred)\n",
    "    plt.plot(fpr, tpr)\n",
    "    plt.plot([0, 1], [0, 1], 'r--')\n",
    "    plt.grid()\n",
    "    print('AUC = {:.4f}'.format(auc(fpr, tpr)))\n",
    "    plt.show()\n",
    "\n",
    "print(\"On training data\")\n",
    "pred = gb.predict_proba(trn_x)[:,1]\n",
    "target = trn_y\n",
    "plot_auc(target=target, pred=pred)\n",
    "\n",
    "print(\"On testing data\")\n",
    "pred = gb.predict_proba(val_x)[:,1]\n",
    "target = val_y\n",
    "plot_auc(target=target, pred=pred)\n",
    "\n",
    "# save the prediction for later use\n",
    "pred_response_prob_gb = gb.predict_proba(val_x)[:,1]"
   ]
  },
  {
   "cell_type": "code",
   "execution_count": 163,
   "metadata": {},
   "outputs": [
    {
     "name": "stdout",
     "output_type": "stream",
     "text": [
      "in training data, found 4843.0 samples with positive donation amount\n",
      "in validation data, found 4873.0 samples with positive donation amount\n",
      "On training data\n",
      "R-squared: 0.549\n"
     ]
    },
    {
     "data": {
      "image/png": "[encoded data removed]",
      "text/plain": [
       "<matplotlib.figure.Figure at 0x1456970b8>"
      ]
     },
     "metadata": {},
     "output_type": "display_data"
    },
    {
     "name": "stdout",
     "output_type": "stream",
     "text": [
      "On testing data\n",
      "R-squared: 0.668\n"
     ]
    },
    {
     "data": {
      "image/png": "[encoded data removed]",
      "text/plain": [
       "<matplotlib.figure.Figure at 0x118be5d68>"
      ]
     },
     "metadata": {},
     "output_type": "display_data"
    }
   ],
   "source": [
    "import math\n",
    "\n",
    "from sklearn.linear_model import LinearRegression\n",
    "\n",
    "idx = dtrn['TARGET_D'] > 0\n",
    "print(\"in training data, found {} samples with positive donation amount\".format(math.fsum(idx)))\n",
    "trn_x_amount = trn_x.loc[idx]\n",
    "trn_y_amount = dtrn.loc[idx, 'TARGET_D']\n",
    "\n",
    "idx = dtst['TARGET_D'] > 0\n",
    "print(\"in validation data, found {} samples with positive donation amount\".format(math.fsum(idx)))\n",
    "val_x_amount = val_x.loc[idx]\n",
    "val_y_amount = dtst.loc[idx, 'TARGET_D']\n",
    "\n",
    "m = LinearRegression()\n",
    "m.fit(trn_x_amount, trn_y_amount)\n",
    "\n",
    "def plot_rsquared(target, pred):\n",
    "    print('R-squared: {:.3f}'.format(r2_score(y_true=target, y_pred=pred)))\n",
    "    plt.plot(pred, target, '.')\n",
    "    plt.grid()\n",
    "    y_max = max(pred.max(), target.max())\n",
    "    plt.plot([0, y_max], [0, y_max], 'r--')\n",
    "    plt.show()\n",
    "\n",
    "print(\"On training data\")\n",
    "pred = m.predict(trn_x_amount)\n",
    "target = trn_y_amount\n",
    "plot_rsquared(target=target, pred=pred)\n",
    "\n",
    "print(\"On testing data\")\n",
    "pred = m.predict(val_x_amount)\n",
    "target = val_y_amount\n",
    "plot_rsquared(target=target, pred=pred)\n",
    "\n",
    "# save the amount prediction for later use\n",
    "pred_amount = m.predict(val_x)"
   ]
  },
  {
   "cell_type": "code",
   "execution_count": 164,
   "metadata": {},
   "outputs": [
    {
     "data": {
      "image/png": "[encoded data removed]",
      "text/plain": [
       "<matplotlib.figure.Figure at 0x119b637f0>"
      ]
     },
     "metadata": {},
     "output_type": "display_data"
    }
   ],
   "source": [
    "expected_donation_gb = pred_amount * pred_response_prob_gb\n",
    "plt.hist(expected_donation_gb)\n",
    "plt.show()"
   ]
  },
  {
   "cell_type": "code",
   "execution_count": 165,
   "metadata": {
    "collapsed": true
   },
   "outputs": [],
   "source": [
    "actual_donation = dtst['TARGET_D']"
   ]
  },
  {
   "cell_type": "code",
   "execution_count": 166,
   "metadata": {},
   "outputs": [
    {
     "name": "stdout",
     "output_type": "stream",
     "text": [
      "Total net donation: 14058.99\n"
     ]
    }
   ],
   "source": [
    "cost_per_mail = 0.68\n",
    "idx = expected_donation_gb > cost_per_mail\n",
    "print('Total net donation: {:.2f}'.format(np.sum(actual_donation[idx] - cost_per_mail)))"
   ]
  },
  {
   "cell_type": "code",
   "execution_count": 167,
   "metadata": {},
   "outputs": [
    {
     "name": "stdout",
     "output_type": "stream",
     "text": [
      "Total net donation (mail every one): 10560.08\n"
     ]
    }
   ],
   "source": [
    "print('Total net donation (mail every one): {:.2f}'.format(np.sum(actual_donation - cost_per_mail)))"
   ]
  },
  {
   "cell_type": "code",
   "execution_count": 168,
   "metadata": {},
   "outputs": [
    {
     "data": {
      "image/png": "[encoded data removed]",
      "text/plain": [
       "<matplotlib.figure.Figure at 0x1456774a8>"
      ]
     },
     "metadata": {},
     "output_type": "display_data"
    }
   ],
   "source": [
    "plt.plot(pred_amount, pred_response_prob_gb, '.')\n",
    "plt.xlabel('pred donation amount')\n",
    "plt.ylabel('response probability')\n",
    "plt.xscale('log')\n",
    "plt.grid()\n",
    "plt.show()"
   ]
  },
  {
   "cell_type": "code",
   "execution_count": null,
   "metadata": {
    "collapsed": true
   },
   "outputs": [],
   "source": []
  }
 ],
 "metadata": {
  "kernelspec": {
   "display_name": "Python 3",
   "language": "python",
   "name": "python3"
  },
  "language_info": {
   "codemirror_mode": {
    "name": "ipython",
    "version": 3
   },
   "file_extension": ".py",
   "mimetype": "text/x-python",
   "name": "python",
   "nbconvert_exporter": "python",
   "pygments_lexer": "ipython3",
   "version": "3.4.3"
  }
 },
 "nbformat": 4,
 "nbformat_minor": 2
}
